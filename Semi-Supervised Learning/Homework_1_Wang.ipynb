{
  "nbformat": 4,
  "nbformat_minor": 0,
  "metadata": {
    "anaconda-cloud": {},
    "kernelspec": {
      "display_name": "Python 3",
      "language": "python",
      "name": "python3"
    },
    "language_info": {
      "codemirror_mode": {
        "name": "ipython",
        "version": 3
      },
      "file_extension": ".py",
      "mimetype": "text/x-python",
      "name": "python",
      "nbconvert_exporter": "python",
      "pygments_lexer": "ipython3",
      "version": "3.4.9"
    },
    "colab": {
      "name": "HW1_Wang.ipynb",
      "provenance": [],
      "collapsed_sections": []
    }
  },
  "cells": [
    {
      "cell_type": "markdown",
      "metadata": {
        "id": "lYNNd0NDJqFV",
        "colab_type": "text"
      },
      "source": [
        "# Data Science and Applied Machine Learning: Homework 1\n",
        "\n",
        "Start by creating a copy of this Jupyter Notebook with the name HW1_`YourLastname`.ipynb. \n",
        "\n",
        "As you go, please regularly select **Save** from the `File` menu to save your work."
      ]
    },
    {
      "cell_type": "markdown",
      "metadata": {
        "id": "Kk_uaxfiJqFY",
        "colab_type": "text"
      },
      "source": [
        "## Question 1: Arithmetic"
      ]
    },
    {
      "cell_type": "markdown",
      "metadata": {
        "id": "YbnasgVFJqFZ",
        "colab_type": "text"
      },
      "source": [
        "Write a Python expression in this next cell that's equal to \n",
        "\n",
        "$$13 + (7 \\frac{10}{11}) \\times (49 \\frac{1}{3}) + 2^{0.75 \\times 16} - \\frac{6}{33}.$$\n",
        "\n",
        "Replace the ellipses (`...`) with your expression. \n",
        "\n",
        "*Hint:* The correct output should be a familiar number."
      ]
    },
    {
      "cell_type": "code",
      "metadata": {
        "scrolled": true,
        "id": "e9JJXbQ7JqFa",
        "colab_type": "code",
        "colab": {
          "base_uri": "https://localhost:8080/",
          "height": 35
        },
        "outputId": "54ab2128-4300-4af7-c8c5-d72bd28bbcc1"
      },
      "source": [
        "13+(7+10/11)*(49+1/3)+2**(0.75*16)-6/33"
      ],
      "execution_count": null,
      "outputs": [
        {
          "output_type": "execute_result",
          "data": {
            "text/plain": [
              "4499.0"
            ]
          },
          "metadata": {
            "tags": []
          },
          "execution_count": 1
        }
      ]
    },
    {
      "cell_type": "markdown",
      "metadata": {
        "id": "2z6CHeMQJqFf",
        "colab_type": "text"
      },
      "source": [
        "## Question 2: Seconds"
      ]
    },
    {
      "cell_type": "markdown",
      "metadata": {
        "id": "2ez6UpiMJqFg",
        "colab_type": "text"
      },
      "source": [
        "Assign the name `seconds_in_a_decade` to the number of seconds between midnight January 1, **2020** and midnight January 1, **2030**. Use Python to perform any required arithmetic."
      ]
    },
    {
      "cell_type": "code",
      "metadata": {
        "scrolled": true,
        "id": "VjNhGL3hJqFh",
        "colab_type": "code",
        "colab": {}
      },
      "source": [
        "# Change the next line so that it computes the number of\n",
        "# seconds in a decade and assigns that number the name\n",
        "# seconds_in_a_decade. Feel free to use extra lines to\n",
        "# create new variables if it makes it easier for you. \n",
        "\n",
        "seconds_in_hour = 60 * 60\n",
        "seconds_in_day = seconds_in_hour * 24\n",
        "seconds_in_year = seconds_in_day * 365\n",
        "seconds_in_a_decade = seconds_in_year * 10 + 3 * seconds_in_day\n",
        "\n",
        "# We've put this line in this cell so that it will print\n",
        "# the value you've given to seconds_in_a_decade when you\n",
        "# run it. You don't need to change this.\n",
        "seconds_in_a_decade"
      ],
      "execution_count": null,
      "outputs": []
    },
    {
      "cell_type": "markdown",
      "metadata": {
        "id": "7ns92iIlJqFk",
        "colab_type": "text"
      },
      "source": [
        "## Question 3: Gravity"
      ]
    },
    {
      "cell_type": "markdown",
      "metadata": {
        "id": "B72VBLGQJqFk",
        "colab_type": "text"
      },
      "source": [
        "**Newton's Law.** Newton's law of universal gravitation predicts that any object dropped near the surface of the Moon should fall\n",
        "\n",
        "$$\\frac{1}{2} G \\frac{M}{R^2} t^2 \\text{ meters}$$\n",
        "\n",
        "after $t$ seconds, where $G$ is a universal constant, $M$ is the moon's mass in kilograms, and $R$ is the moon's radius in meters.  So if we know $G$, $M$, and $R$, then Newton's laws let us predict how far an object will fall over any amount of time.\n",
        "\n",
        "In the cell below, use Python to estimate how far a feather will fall in 1.5 seconds if dropped near the surface of the Moon. "
      ]
    },
    {
      "cell_type": "code",
      "metadata": {
        "scrolled": true,
        "id": "pfTQXqqqJqFl",
        "colab_type": "code",
        "colab": {
          "base_uri": "https://localhost:8080/",
          "height": 35
        },
        "outputId": "231dc523-25fc-4d61-8ad2-e72af3370bd9"
      },
      "source": [
        "# We've written down the values of the 3 universal\n",
        "# constants that show up in Newton's formula.\n",
        "\n",
        "# G, the universal constant measuring the strength of gravity.\n",
        "gravity_constant = 6.674 * 10**-11\n",
        "\n",
        "# M, the moon's mass, in kilograms.\n",
        "moon_mass_kg = 7.34767309 * 10**22\n",
        "\n",
        "# R, the radius of the moon, in meters.\n",
        "moon_radius_m = 1.737 * 10**6\n",
        "\n",
        "# Fill this in.\n",
        "time = 1.5 # seconds\n",
        "\n",
        "# The distance the feather should fall over the\n",
        "# duration of the fall, in meters, according to Newton's\n",
        "# law of gravity.  The text above describes the formula\n",
        "# for this distance given by Newton's law.\n",
        "# **YOU FILL THIS PART IN.**\n",
        "predicted_distance_m = (1/2) * gravity_constant * (moon_mass_kg / moon_radius_m ** 2) * time ** 2\n",
        "\n",
        "predicted_distance_m"
      ],
      "execution_count": null,
      "outputs": [
        {
          "output_type": "execute_result",
          "data": {
            "text/plain": [
              "1.8284745229051635"
            ]
          },
          "metadata": {
            "tags": []
          },
          "execution_count": 5
        }
      ]
    },
    {
      "cell_type": "markdown",
      "metadata": {
        "id": "NMJL_U3XJqFo",
        "colab_type": "text"
      },
      "source": [
        "## Question 4: Height "
      ]
    },
    {
      "cell_type": "markdown",
      "metadata": {
        "id": "DFyX5os5JqFp",
        "colab_type": "text"
      },
      "source": [
        "The Women's FIFA World Cup was last summer. Three of the players on the U.S. team are Carli Lloyd, Tobin Heath, and Crystal Dunn. Their heights are given in the cell below.\n",
        "\n",
        "In the cell below, use Python to find the **maximum** difference in their height."
      ]
    },
    {
      "cell_type": "code",
      "metadata": {
        "scrolled": true,
        "id": "7n0_Lo9vJqFq",
        "colab_type": "code",
        "colab": {}
      },
      "source": [
        "# The three players' heights, in meters:\n",
        "carli =  1.73 # Carli Lloyd is 5'8\"\n",
        "tobin = 1.68 # Tobin Heath is 5'6\"\n",
        "crystal = 1.55 # Crystal Dunn is 5'1\"\n",
        "\n",
        "# We'd like to look at all 3 pairs of heights, compute the absolute\n",
        "# difference between each pair, and then find the largest of those\n",
        "# 3 absolute differences.  This is left to you!  If you're stuck,\n",
        "# try computing the value for each step of the process (like the\n",
        "# difference between Carli's height and Tobin's height) on a separate\n",
        "# line and giving it a name (like carli_tobin_height_diff).\n",
        "\n",
        "\n",
        "two_person_height_diff = [abs(carli) - tobin, abs(carli - crystal), abs(tobin - crystal)]\n",
        "\n",
        "max_height_difference = max(two_person_height_diff)\n",
        "max_height_difference"
      ],
      "execution_count": null,
      "outputs": []
    },
    {
      "cell_type": "markdown",
      "metadata": {
        "id": "FPSAXlMeJqFt",
        "colab_type": "text"
      },
      "source": [
        "## Completion"
      ]
    },
    {
      "cell_type": "markdown",
      "metadata": {
        "id": "XxGWHSsMJqFu",
        "colab_type": "text"
      },
      "source": [
        "Congratulations, you're done with Homework 1! "
      ]
    },
    {
      "cell_type": "markdown",
      "metadata": {
        "id": "N0RtZtT8JqFv",
        "colab_type": "text"
      },
      "source": [
        "Finally, select **Save** from the `File` menu below the Jupyter logo to save your work.\n",
        "\n",
        "Download and submit your notebook on Moodle."
      ]
    }
  ]
}