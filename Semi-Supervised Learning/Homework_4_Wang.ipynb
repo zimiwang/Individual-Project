{
  "nbformat": 4,
  "nbformat_minor": 0,
  "metadata": {
    "colab": {
      "name": "Homework_4_Wang.ipynb",
      "provenance": [],
      "collapsed_sections": []
    },
    "kernelspec": {
      "name": "python3",
      "display_name": "Python 3"
    }
  },
  "cells": [
    {
      "cell_type": "markdown",
      "metadata": {
        "id": "er-n4jj0FV1e",
        "colab_type": "text"
      },
      "source": [
        "# Homework 4: Monty Hall Simulation\n",
        "Dr. Leslie Kerby <br>\n",
        "Data Science and Applied Machine Learning <br>\n",
        "Student's name: Ziming Wang "
      ]
    },
    {
      "cell_type": "markdown",
      "metadata": {
        "id": "EhEWjdPLM6mk",
        "colab_type": "text"
      },
      "source": [
        "### 2.2. The Monty Hall Problem"
      ]
    },
    {
      "cell_type": "markdown",
      "metadata": {
        "id": "8QNh_jsKM6ml",
        "colab_type": "text"
      },
      "source": [
        "Originating from the American TV program, \"Let's Make a Deal,\" the Monty Hall problem gives a contestant a chance to win a car. There are three doors and behind one is a brand new car. The other two doors are hiding goats. \n",
        "\n",
        "The contestant chooses a door: the first, second, or third. Then the host Monty Hall opens up one of the other two doors remaining to reveal a goat. There are now two unopened doors, the one the contestant originally chose and the other un-opened door. Behind one is a goat and behind the other is a car. The contestant is given the option to stay with their originally-chosen door or to switch to the other door. Which should they do? Or does it not matter?\n",
        "\n",
        "Create a python simulation to answer this question. \n",
        "\n",
        "**Step 1.** Create a numpy array `doors` with the three possibiliites: `goat one`, `goat two`, and `car`. The contestant randomly chooses a door; simulate this by randomly choosing one of these three using `np.random.choice()` and calling it `original_choice`."
      ]
    },
    {
      "cell_type": "code",
      "metadata": {
        "id": "T0XznkV5M6mn",
        "colab_type": "code",
        "colab": {
          "base_uri": "https://localhost:8080/",
          "height": 35
        },
        "outputId": "d322075a-caa4-4fb5-fead-bd767a40cf8a"
      },
      "source": [
        "import numpy as np\n",
        "import pandas as pd\n",
        "import matplotlib\n",
        "import matplotlib.pyplot as plt\n",
        "\n",
        "doors = np.array(['goat_one', 'goat_two', 'car'])\n",
        "original_choice = np.random.choice(doors)\n",
        "original_choice"
      ],
      "execution_count": 53,
      "outputs": [
        {
          "output_type": "execute_result",
          "data": {
            "application/vnd.google.colaboratory.intrinsic+json": {
              "type": "string"
            },
            "text/plain": [
              "'goat_one'"
            ]
          },
          "metadata": {
            "tags": []
          },
          "execution_count": 53
        }
      ]
    },
    {
      "cell_type": "markdown",
      "metadata": {
        "id": "3Z-El7b_M6mq",
        "colab_type": "text"
      },
      "source": [
        "**Step 2.** Now the host reveals a goat behind one of the two un-chosen doors. If the contestant had chosen a door with a goat behind it, then there is only one other door with a goat and that one will be opened by the host. If the contestant had chosen the door with the car behind it, then both un-chosen doors contain goats and the host will randomly decide which one to open. Simulate this. Call the goat-door the host reveals `revealed_door`. <br/>\n",
        "*Hint:* Use `if` statements."
      ]
    },
    {
      "cell_type": "code",
      "metadata": {
        "id": "b3-AAv8gM6mr",
        "colab_type": "code",
        "colab": {
          "base_uri": "https://localhost:8080/",
          "height": 35
        },
        "outputId": "53cd06ee-b800-4de1-eb3d-cddd018e8efd"
      },
      "source": [
        "if original_choice == 'goat_one':\n",
        "    revealed_door = 'goat_two'\n",
        "\n",
        "elif original_choice == 'goat_two':\n",
        "    revealed_door = 'goat_one'\n",
        "    \n",
        "else:\n",
        "    revealed_door = np.random.choice(['goat_one', 'goat_two'])\n",
        "\n",
        "revealed_door"
      ],
      "execution_count": 2,
      "outputs": [
        {
          "output_type": "execute_result",
          "data": {
            "application/vnd.google.colaboratory.intrinsic+json": {
              "type": "string"
            },
            "text/plain": [
              "'goat_one'"
            ]
          },
          "metadata": {
            "tags": []
          },
          "execution_count": 2
        }
      ]
    },
    {
      "cell_type": "markdown",
      "metadata": {
        "id": "jAogoOlKM6my",
        "colab_type": "text"
      },
      "source": [
        "**Step 3.** Copy your code from Step 2 and modify it to assign what is left behind the third (un-chosen and un-revealed) door within the `if` statements, so as to be more computationally concise. Call this door the `other_door`."
      ]
    },
    {
      "cell_type": "code",
      "metadata": {
        "id": "p2uv0TY3M6mz",
        "colab_type": "code",
        "colab": {
          "base_uri": "https://localhost:8080/",
          "height": 53
        },
        "outputId": "8ccf5b0a-822c-48dd-f13f-efe522e5b7a0"
      },
      "source": [
        "if original_choice == 'goat_one':\n",
        "     revealed_door = 'goat_two'\n",
        "     other_door = 'car'\n",
        "\n",
        "elif original_choice == 'goat_two':\n",
        "     revealed_door = 'goat_one'\n",
        "     other_door = 'car'\n",
        "     \n",
        "else:\n",
        "     revealed_door = np.random.choice(['goat_one', 'goat_two'])\n",
        "     if revealed_door == 'goat_one':\n",
        "         other_door = 'goat_two'\n",
        "\n",
        "     else:\n",
        "         other_door = 'goat_one'\n",
        "\n",
        "print(revealed_door)\n",
        "other_door"
      ],
      "execution_count": 48,
      "outputs": [
        {
          "output_type": "stream",
          "text": [
            "goat_one\n"
          ],
          "name": "stdout"
        },
        {
          "output_type": "execute_result",
          "data": {
            "application/vnd.google.colaboratory.intrinsic+json": {
              "type": "string"
            },
            "text/plain": [
              "'car'"
            ]
          },
          "metadata": {
            "tags": []
          },
          "execution_count": 48
        }
      ]
    },
    {
      "cell_type": "markdown",
      "metadata": {
        "id": "4y4T2cUQM6m2",
        "colab_type": "text"
      },
      "source": [
        "**Step 4.** Create a variable named `choice` that will simulate whether the contestant decides to stay with their original door or switch. `choice` will be either the string \"stay\" or \"switch\". Create a variable `final_choice`, which will be equal to `original_choice` if the contestant chose to stay, and equal to `other_door` if the contestant chose to switch. "
      ]
    },
    {
      "cell_type": "code",
      "metadata": {
        "id": "lzsGjpX2M6m3",
        "colab_type": "code",
        "colab": {
          "base_uri": "https://localhost:8080/",
          "height": 245
        },
        "outputId": "83d013c1-8c4e-462f-ecdd-ce0e8c707fd4"
      },
      "source": [
        "choice = input('Do you want to \"stay\" or \"switch\"?')\n",
        "\n",
        "if choice == 'stay':\n",
        "    final_choice = original_choice\n",
        "\n",
        "elif choice == 'switch':\n",
        "    final_choice = other_door\n",
        "\n",
        "else:\n",
        "    print('You input a wrong word!')\n",
        "  \n",
        "final_choice"
      ],
      "execution_count": 54,
      "outputs": [
        {
          "output_type": "stream",
          "text": [
            "Do you want to \"stay\" or \"switch\"?asd\n",
            "You input a wrong word!\n"
          ],
          "name": "stdout"
        },
        {
          "output_type": "error",
          "ename": "NameError",
          "evalue": "ignored",
          "traceback": [
            "\u001b[0;31m---------------------------------------------------------------------------\u001b[0m",
            "\u001b[0;31mNameError\u001b[0m                                 Traceback (most recent call last)",
            "\u001b[0;32m<ipython-input-54-fa1fe4020149>\u001b[0m in \u001b[0;36m<module>\u001b[0;34m()\u001b[0m\n\u001b[1;32m     10\u001b[0m     \u001b[0mprint\u001b[0m\u001b[0;34m(\u001b[0m\u001b[0;34m'You input a wrong word!'\u001b[0m\u001b[0;34m)\u001b[0m\u001b[0;34m\u001b[0m\u001b[0;34m\u001b[0m\u001b[0m\n\u001b[1;32m     11\u001b[0m \u001b[0;34m\u001b[0m\u001b[0m\n\u001b[0;32m---> 12\u001b[0;31m \u001b[0mfinal_choice\u001b[0m\u001b[0;34m\u001b[0m\u001b[0;34m\u001b[0m\u001b[0m\n\u001b[0m",
            "\u001b[0;31mNameError\u001b[0m: name 'final_choice' is not defined"
          ]
        }
      ]
    },
    {
      "cell_type": "markdown",
      "metadata": {
        "id": "n_yyDH6uM6m5",
        "colab_type": "text"
      },
      "source": [
        "**Step 5.** Now you have everything you need to create a function `monty_hall` which will run one simulation of the game. The function will take one parameter, `choice`, and will return the `final_choice` of the contestant. Test your new function by calling it with both 'stay' and 'switch' and see if the contestant wins a goat or a car."
      ]
    },
    {
      "cell_type": "code",
      "metadata": {
        "id": "UaFM89qXM6m6",
        "colab_type": "code",
        "colab": {
          "base_uri": "https://localhost:8080/",
          "height": 53
        },
        "outputId": "b5a3a06f-c409-443d-d8bb-844a555495ef"
      },
      "source": [
        "def monty_hall(choice):\n",
        "    doors = np.array(['goat_one', 'goat_two', 'car'])\n",
        "    original_choice = np.random.choice(doors)\n",
        "\n",
        "    if original_choice == 'goat_one':\n",
        "        revealed_door = 'goat_two'\n",
        "        other_door = 'car'\n",
        "\n",
        "    elif original_choice == 'goat_two':\n",
        "        revealed_door = 'goat_one'\n",
        "        other_door = 'car'\n",
        "\n",
        "    else:\n",
        "        revealed_door = np.random.choice(['goat_one', 'goat_two'])\n",
        "\n",
        "        if revealed_door == 'goat_one':\n",
        "            other_door = 'goat_two'\n",
        "\n",
        "        else:\n",
        "            other_door = 'goat_one'\n",
        "\n",
        "    if choice == 'stay':\n",
        "        final_choice = original_choice\n",
        "\n",
        "    elif choice == 'switch':\n",
        "        final_choice = other_door\n",
        "\n",
        "    else:\n",
        "        print('You input a wrong word!')\n",
        "\n",
        "    return final_choice\n",
        "\n",
        "\n",
        "print(monty_hall('stay'))\n",
        "monty_hall('switch')"
      ],
      "execution_count": 44,
      "outputs": [
        {
          "output_type": "stream",
          "text": [
            "goat_two\n"
          ],
          "name": "stdout"
        },
        {
          "output_type": "execute_result",
          "data": {
            "application/vnd.google.colaboratory.intrinsic+json": {
              "type": "string"
            },
            "text/plain": [
              "'car'"
            ]
          },
          "metadata": {
            "tags": []
          },
          "execution_count": 44
        }
      ]
    },
    {
      "cell_type": "markdown",
      "metadata": {
        "id": "OWDOWzblM6m9",
        "colab_type": "text"
      },
      "source": [
        "**Step 6.** Find the probability of winning a car if the contestant chooses to stay with their original choice. Do this by running `monty_hall('stay')` 10,000 times, each time appending what the contestant won to a numpy array called `winnings`. Then count how many times the contestant won the car, and divide by how many trials there were, to arrive at the final odds of winning a car when choosing to stick with the original door. Call this `winning_chance`.<br/>\n",
        "*Hint:* Use a `for` loop."
      ]
    },
    {
      "cell_type": "code",
      "metadata": {
        "id": "iWY2yx30M6m-",
        "colab_type": "code",
        "colab": {
          "base_uri": "https://localhost:8080/",
          "height": 35
        },
        "outputId": "a6cc374b-2ae0-4c02-cadf-3b1a73d775f8"
      },
      "source": [
        "results = []\n",
        "for i in range(10000):\n",
        "    results.append((monty_hall('stay')))\n",
        "    \n",
        "winnings = np.array(results)\n",
        "winning_chance = np.sum(winnings == 'car') / 10000\n",
        "winning_chance"
      ],
      "execution_count": 7,
      "outputs": [
        {
          "output_type": "execute_result",
          "data": {
            "text/plain": [
              "0.3401"
            ]
          },
          "metadata": {
            "tags": []
          },
          "execution_count": 7
        }
      ]
    },
    {
      "cell_type": "markdown",
      "metadata": {
        "id": "GLSSpDX1M6nA",
        "colab_type": "text"
      },
      "source": [
        "**Step 7.** Now find the probability of winning a car if the contestant chooses to switch doors (do the same thing as Step 6 but for the contestant choosing the other door)."
      ]
    },
    {
      "cell_type": "code",
      "metadata": {
        "id": "AERLv-AGM6nB",
        "colab_type": "code",
        "colab": {
          "base_uri": "https://localhost:8080/",
          "height": 35
        },
        "outputId": "4f3f62c7-ae8a-43e9-a8d6-47ebd18f47d6"
      },
      "source": [
        "results = []\n",
        "for i in range(10000):\n",
        "    results.append((monty_hall('switch')))\n",
        "    \n",
        "winnings = np.array(results)\n",
        "winning_chance = np.sum(winnings == 'car') / 10000\n",
        "winning_chance"
      ],
      "execution_count": 8,
      "outputs": [
        {
          "output_type": "execute_result",
          "data": {
            "text/plain": [
              "0.6647"
            ]
          },
          "metadata": {
            "tags": []
          },
          "execution_count": 8
        }
      ]
    },
    {
      "cell_type": "markdown",
      "metadata": {
        "id": "g6yhTCtCM6nD",
        "colab_type": "text"
      },
      "source": [
        "**So should you stick with your original choice or switch doors? And are you surprised at the result?**"
      ]
    },
    {
      "cell_type": "markdown",
      "metadata": {
        "id": "_l7uX0RTFqu9",
        "colab_type": "text"
      },
      "source": [
        ""
      ]
    },
    {
      "cell_type": "code",
      "metadata": {
        "id": "En5hLFl_Fpua",
        "colab_type": "code",
        "colab": {}
      },
      "source": [
        "The probability of switching is always higher than staying. So we should always switch."
      ],
      "execution_count": null,
      "outputs": []
    },
    {
      "cell_type": "code",
      "metadata": {
        "id": "iDp4FdjmFTNR",
        "colab_type": "code",
        "colab": {}
      },
      "source": [
        "I was very surprised by the result. This result is different from normal people's common sense."
      ],
      "execution_count": null,
      "outputs": []
    }
  ]
}