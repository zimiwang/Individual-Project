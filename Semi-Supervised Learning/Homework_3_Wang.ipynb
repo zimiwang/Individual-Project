{
  "nbformat": 4,
  "nbformat_minor": 0,
  "metadata": {
    "anaconda-cloud": {},
    "kernelspec": {
      "display_name": "Python 3",
      "language": "python",
      "name": "python3"
    },
    "language_info": {
      "codemirror_mode": {
        "name": "ipython",
        "version": 3
      },
      "file_extension": ".py",
      "mimetype": "text/x-python",
      "name": "python",
      "nbconvert_exporter": "python",
      "pygments_lexer": "ipython3",
      "version": "3.6.5"
    },
    "colab": {
      "name": "Homework_3_Wang.ipynb",
      "provenance": [],
      "collapsed_sections": []
    }
  },
  "cells": [
    {
      "cell_type": "markdown",
      "metadata": {
        "id": "pPkbsIIIyGaD",
        "colab_type": "text"
      },
      "source": [
        "# Homework 3: Functions and Visualizations\n",
        "Dr. Leslie Kerby <br>\n",
        "Data Science and Applied Machine Learning <br>\n",
        "Student's name: Ziming Wang"
      ]
    },
    {
      "cell_type": "markdown",
      "metadata": {
        "id": "9bH1wPfnyGaE",
        "colab_type": "text"
      },
      "source": [
        "First, set up the imports by running the cell below."
      ]
    },
    {
      "cell_type": "code",
      "metadata": {
        "id": "A6c_mJxTyGaF",
        "colab_type": "code",
        "colab": {}
      },
      "source": [
        "import numpy as np\n",
        "import pandas as pd\n",
        "\n",
        "# These lines set up graphing capabilities (may not be needed).\n",
        "import matplotlib\n",
        "%matplotlib inline\n",
        "import matplotlib.pyplot as plt"
      ],
      "execution_count": 24,
      "outputs": []
    },
    {
      "cell_type": "markdown",
      "metadata": {
        "id": "Q6jiMpIzyGaI",
        "colab_type": "text"
      },
      "source": [
        "## Canadian Public Employees' Incomes\n",
        "\n",
        "We'll look at the 2016 compensation of Ontario Canada public sector employees who made more than CAN$100,000 in 2016. The database is 17MB as a CSV file.\n",
        "\n",
        "First read in the dataset. "
      ]
    },
    {
      "cell_type": "code",
      "metadata": {
        "id": "jRr181_dyGaI",
        "colab_type": "code",
        "colab": {
          "base_uri": "https://localhost:8080/",
          "height": 198
        },
        "outputId": "f86947fd-d9b9-4476-9d53-f427b1a049b4"
      },
      "source": [
        "income = pd.read_csv('https://raw.githubusercontent.com/LGKerby/Python/master/en-2016-pssd-compendium.csv')\n",
        "income.head()"
      ],
      "execution_count": 25,
      "outputs": [
        {
          "output_type": "execute_result",
          "data": {
            "text/html": [
              "<div>\n",
              "<style scoped>\n",
              "    .dataframe tbody tr th:only-of-type {\n",
              "        vertical-align: middle;\n",
              "    }\n",
              "\n",
              "    .dataframe tbody tr th {\n",
              "        vertical-align: top;\n",
              "    }\n",
              "\n",
              "    .dataframe thead th {\n",
              "        text-align: right;\n",
              "    }\n",
              "</style>\n",
              "<table border=\"1\" class=\"dataframe\">\n",
              "  <thead>\n",
              "    <tr style=\"text-align: right;\">\n",
              "      <th></th>\n",
              "      <th>Sector</th>\n",
              "      <th>Last Name</th>\n",
              "      <th>First Name</th>\n",
              "      <th>Salary Paid</th>\n",
              "      <th>Taxable Benefits</th>\n",
              "      <th>Employer</th>\n",
              "      <th>Job Title</th>\n",
              "      <th>Calendar Year</th>\n",
              "    </tr>\n",
              "  </thead>\n",
              "  <tbody>\n",
              "    <tr>\n",
              "      <th>0</th>\n",
              "      <td>Colleges</td>\n",
              "      <td>Abbas</td>\n",
              "      <td>Sadiq</td>\n",
              "      <td>$105,595.39</td>\n",
              "      <td>$84.24</td>\n",
              "      <td>Algonquin College</td>\n",
              "      <td>Professor</td>\n",
              "      <td>2016</td>\n",
              "    </tr>\n",
              "    <tr>\n",
              "      <th>1</th>\n",
              "      <td>Colleges</td>\n",
              "      <td>Abboud</td>\n",
              "      <td>Nadim</td>\n",
              "      <td>$108,393.10</td>\n",
              "      <td>$126.96</td>\n",
              "      <td>Algonquin College</td>\n",
              "      <td>Professor</td>\n",
              "      <td>2016</td>\n",
              "    </tr>\n",
              "    <tr>\n",
              "      <th>2</th>\n",
              "      <td>Colleges</td>\n",
              "      <td>Agate</td>\n",
              "      <td>Jeffery M.</td>\n",
              "      <td>$125,779.64</td>\n",
              "      <td>$325.58</td>\n",
              "      <td>Algonquin College</td>\n",
              "      <td>Associate Director, Student Support Services</td>\n",
              "      <td>2016</td>\n",
              "    </tr>\n",
              "    <tr>\n",
              "      <th>3</th>\n",
              "      <td>Colleges</td>\n",
              "      <td>Al-Azzawi</td>\n",
              "      <td>Abdul</td>\n",
              "      <td>$105,595.41</td>\n",
              "      <td>$84.24</td>\n",
              "      <td>Algonquin College</td>\n",
              "      <td>Professor</td>\n",
              "      <td>2016</td>\n",
              "    </tr>\n",
              "    <tr>\n",
              "      <th>4</th>\n",
              "      <td>Colleges</td>\n",
              "      <td>Alexander</td>\n",
              "      <td>Doug</td>\n",
              "      <td>$105,595.41</td>\n",
              "      <td>$126.96</td>\n",
              "      <td>Algonquin College</td>\n",
              "      <td>Professor</td>\n",
              "      <td>2016</td>\n",
              "    </tr>\n",
              "  </tbody>\n",
              "</table>\n",
              "</div>"
            ],
            "text/plain": [
              "     Sector  ... Calendar Year\n",
              "0  Colleges  ...          2016\n",
              "1  Colleges  ...          2016\n",
              "2  Colleges  ...          2016\n",
              "3  Colleges  ...          2016\n",
              "4  Colleges  ...          2016\n",
              "\n",
              "[5 rows x 8 columns]"
            ]
          },
          "metadata": {
            "tags": []
          },
          "execution_count": 25
        }
      ]
    },
    {
      "cell_type": "markdown",
      "metadata": {
        "id": "9NJYC7suyGaM",
        "colab_type": "text"
      },
      "source": [
        "**Question 1**<br/>\n",
        "How many rows (ie employees) are in the dataset?"
      ]
    },
    {
      "cell_type": "code",
      "metadata": {
        "id": "3v5PotR1yGaN",
        "colab_type": "code",
        "colab": {
          "base_uri": "https://localhost:8080/",
          "height": 35
        },
        "outputId": "08daf190-821d-4adb-83e6-2a00a80f3b1c"
      },
      "source": [
        "len(income)"
      ],
      "execution_count": 26,
      "outputs": [
        {
          "output_type": "execute_result",
          "data": {
            "text/plain": [
              "124445"
            ]
          },
          "metadata": {
            "tags": []
          },
          "execution_count": 26
        }
      ]
    },
    {
      "cell_type": "markdown",
      "metadata": {
        "id": "BEeZzS6YyGaQ",
        "colab_type": "text"
      },
      "source": [
        "**Question 2** <br/> Add a new column called '2016 Salary ($)' that contains employee pay as a number, to the DataFrame `income`.\n",
        "\n",
        "*Hint:* This will require stripping the '$' off of the 'Salary Paid' column elements and converting them from a string to a float. <br/>\n",
        "*Second Hint:* This will also require creating a function (or using a lambda) to do this, and applying it to the 'Salary Paid' column. <br/>\n",
        "*Third Hint:* Don't forget you will also have to remove the comma."
      ]
    },
    {
      "cell_type": "code",
      "metadata": {
        "id": "CupHpBh-yGaR",
        "colab_type": "code",
        "colab": {
          "base_uri": "https://localhost:8080/",
          "height": 198
        },
        "outputId": "6b816045-4bb7-47c4-a398-dfe0faea050a"
      },
      "source": [
        "income['2016 Salary ($)'] = income['Salary Paid'].apply( lambda x : float(x.strip('$').replace(',', '')) )\n",
        "income.head()"
      ],
      "execution_count": 27,
      "outputs": [
        {
          "output_type": "execute_result",
          "data": {
            "text/html": [
              "<div>\n",
              "<style scoped>\n",
              "    .dataframe tbody tr th:only-of-type {\n",
              "        vertical-align: middle;\n",
              "    }\n",
              "\n",
              "    .dataframe tbody tr th {\n",
              "        vertical-align: top;\n",
              "    }\n",
              "\n",
              "    .dataframe thead th {\n",
              "        text-align: right;\n",
              "    }\n",
              "</style>\n",
              "<table border=\"1\" class=\"dataframe\">\n",
              "  <thead>\n",
              "    <tr style=\"text-align: right;\">\n",
              "      <th></th>\n",
              "      <th>Sector</th>\n",
              "      <th>Last Name</th>\n",
              "      <th>First Name</th>\n",
              "      <th>Salary Paid</th>\n",
              "      <th>Taxable Benefits</th>\n",
              "      <th>Employer</th>\n",
              "      <th>Job Title</th>\n",
              "      <th>Calendar Year</th>\n",
              "      <th>2016 Salary ($)</th>\n",
              "    </tr>\n",
              "  </thead>\n",
              "  <tbody>\n",
              "    <tr>\n",
              "      <th>0</th>\n",
              "      <td>Colleges</td>\n",
              "      <td>Abbas</td>\n",
              "      <td>Sadiq</td>\n",
              "      <td>$105,595.39</td>\n",
              "      <td>$84.24</td>\n",
              "      <td>Algonquin College</td>\n",
              "      <td>Professor</td>\n",
              "      <td>2016</td>\n",
              "      <td>105595.39</td>\n",
              "    </tr>\n",
              "    <tr>\n",
              "      <th>1</th>\n",
              "      <td>Colleges</td>\n",
              "      <td>Abboud</td>\n",
              "      <td>Nadim</td>\n",
              "      <td>$108,393.10</td>\n",
              "      <td>$126.96</td>\n",
              "      <td>Algonquin College</td>\n",
              "      <td>Professor</td>\n",
              "      <td>2016</td>\n",
              "      <td>108393.10</td>\n",
              "    </tr>\n",
              "    <tr>\n",
              "      <th>2</th>\n",
              "      <td>Colleges</td>\n",
              "      <td>Agate</td>\n",
              "      <td>Jeffery M.</td>\n",
              "      <td>$125,779.64</td>\n",
              "      <td>$325.58</td>\n",
              "      <td>Algonquin College</td>\n",
              "      <td>Associate Director, Student Support Services</td>\n",
              "      <td>2016</td>\n",
              "      <td>125779.64</td>\n",
              "    </tr>\n",
              "    <tr>\n",
              "      <th>3</th>\n",
              "      <td>Colleges</td>\n",
              "      <td>Al-Azzawi</td>\n",
              "      <td>Abdul</td>\n",
              "      <td>$105,595.41</td>\n",
              "      <td>$84.24</td>\n",
              "      <td>Algonquin College</td>\n",
              "      <td>Professor</td>\n",
              "      <td>2016</td>\n",
              "      <td>105595.41</td>\n",
              "    </tr>\n",
              "    <tr>\n",
              "      <th>4</th>\n",
              "      <td>Colleges</td>\n",
              "      <td>Alexander</td>\n",
              "      <td>Doug</td>\n",
              "      <td>$105,595.41</td>\n",
              "      <td>$126.96</td>\n",
              "      <td>Algonquin College</td>\n",
              "      <td>Professor</td>\n",
              "      <td>2016</td>\n",
              "      <td>105595.41</td>\n",
              "    </tr>\n",
              "  </tbody>\n",
              "</table>\n",
              "</div>"
            ],
            "text/plain": [
              "     Sector  Last Name  ... Calendar Year 2016 Salary ($)\n",
              "0  Colleges      Abbas  ...          2016       105595.39\n",
              "1  Colleges     Abboud  ...          2016       108393.10\n",
              "2  Colleges      Agate  ...          2016       125779.64\n",
              "3  Colleges  Al-Azzawi  ...          2016       105595.41\n",
              "4  Colleges  Alexander  ...          2016       105595.41\n",
              "\n",
              "[5 rows x 9 columns]"
            ]
          },
          "metadata": {
            "tags": []
          },
          "execution_count": 27
        }
      ]
    },
    {
      "cell_type": "markdown",
      "metadata": {
        "id": "JVlDlNBiyGaW",
        "colab_type": "text"
      },
      "source": [
        "**Question 3**<br/>\n",
        "What is the average employee salary in this dataset?"
      ]
    },
    {
      "cell_type": "code",
      "metadata": {
        "id": "LK06bCGSyGaX",
        "colab_type": "code",
        "colab": {
          "base_uri": "https://localhost:8080/",
          "height": 35
        },
        "outputId": "6b7aa6fd-caa8-4fac-ae8f-27328f04f530"
      },
      "source": [
        "income['2016 Salary ($)'].mean()"
      ],
      "execution_count": 28,
      "outputs": [
        {
          "output_type": "execute_result",
          "data": {
            "text/plain": [
              "127251.60404291407"
            ]
          },
          "metadata": {
            "tags": []
          },
          "execution_count": 28
        }
      ]
    },
    {
      "cell_type": "markdown",
      "metadata": {
        "id": "QR2g74jdyGaa",
        "colab_type": "text"
      },
      "source": [
        "**Question 4**<br/>\n",
        "Create a histogram using the `pandas` method `hist` (true, it uses `matplotlib` under the hood, but you don't really see this), of employee salary. Use 100 bins."
      ]
    },
    {
      "cell_type": "code",
      "metadata": {
        "id": "Z2Jnq66qyGab",
        "colab_type": "code",
        "colab": {
          "base_uri": "https://localhost:8080/",
          "height": 328
        },
        "outputId": "00bbc801-ff22-4197-fe3d-4bc326f40c78"
      },
      "source": [
        "income.hist(bins = 100)\n"
      ],
      "execution_count": 38,
      "outputs": [
        {
          "output_type": "execute_result",
          "data": {
            "text/plain": [
              "array([[<matplotlib.axes._subplots.AxesSubplot object at 0x7fc071ebef28>]],\n",
              "      dtype=object)"
            ]
          },
          "metadata": {
            "tags": []
          },
          "execution_count": 38
        },
        {
          "output_type": "display_data",
          "data": {
            "image/png": "[encoded data removed]",
            "text/plain": [
              "<Figure size 432x288 with 1 Axes>"
            ]
          },
          "metadata": {
            "tags": [],
            "needs_background": "light"
          }
        }
      ]
    },
    {
      "cell_type": "markdown",
      "metadata": {
        "id": "pH4hhhiZyGad",
        "colab_type": "text"
      },
      "source": [
        "**Question 5** <br/>\n",
        "How many employees made more than CAN$200,000? Use python to calculate this (not by counting on the histogram)."
      ]
    },
    {
      "cell_type": "code",
      "metadata": {
        "id": "oofYh9C-yGae",
        "colab_type": "code",
        "colab": {
          "base_uri": "https://localhost:8080/",
          "height": 35
        },
        "outputId": "6ed3d734-1687-413d-8c56-d89a267ae097"
      },
      "source": [
        "len(income[income['2016 Salary ($)'] > 200000])"
      ],
      "execution_count": null,
      "outputs": [
        {
          "output_type": "execute_result",
          "data": {
            "text/plain": [
              "5512"
            ]
          },
          "metadata": {
            "tags": []
          },
          "execution_count": 11
        }
      ]
    },
    {
      "cell_type": "markdown",
      "metadata": {
        "id": "_kvqI0RByGag",
        "colab_type": "text"
      },
      "source": [
        "**Question 6**<br/>\n",
        "What was the maximum salary in the dataset?"
      ]
    },
    {
      "cell_type": "code",
      "metadata": {
        "id": "MPYbfPiCyGai",
        "colab_type": "code",
        "colab": {
          "base_uri": "https://localhost:8080/",
          "height": 35
        },
        "outputId": "fb1c360a-368e-45f4-90e7-6bd71df5f32e"
      },
      "source": [
        "income['2016 Salary ($)'].max()"
      ],
      "execution_count": 39,
      "outputs": [
        {
          "output_type": "execute_result",
          "data": {
            "text/plain": [
              "1155899.14"
            ]
          },
          "metadata": {
            "tags": []
          },
          "execution_count": 39
        }
      ]
    },
    {
      "cell_type": "markdown",
      "metadata": {
        "id": "6SKTJHQryGal",
        "colab_type": "text"
      },
      "source": [
        "**Question 7**<br/>\n",
        "Who made that max salary?<br/>\n",
        "Use `loc` and put the answer into one string: 'firstname lastname'\n",
        "\n",
        "*Hint:* First find the row/index for that max salary."
      ]
    },
    {
      "cell_type": "code",
      "metadata": {
        "id": "qK4_Y-OPyGal",
        "colab_type": "code",
        "colab": {
          "base_uri": "https://localhost:8080/",
          "height": 35
        },
        "outputId": "81339534-8415-4fff-e0f5-4a9775bf2bd0"
      },
      "source": [
        "salary_max = income['2016 Salary ($)'].max()\n",
        "employee = income[income['2016 Salary ($)'] == salary_max]\n",
        "firstname_lastname = employee.loc[employee.index.item(),'First Name'] + ' ' + employee.loc[employee.index.item(),'Last Name']\n",
        "firstname_lastname"
      ],
      "execution_count": 35,
      "outputs": [
        {
          "output_type": "execute_result",
          "data": {
            "application/vnd.google.colaboratory.intrinsic+json": {
              "type": "string"
            },
            "text/plain": [
              "'Jeffrey Lyash'"
            ]
          },
          "metadata": {
            "tags": []
          },
          "execution_count": 35
        }
      ]
    },
    {
      "cell_type": "markdown",
      "metadata": {
        "id": "R7RrkT0xyGan",
        "colab_type": "text"
      },
      "source": [
        "**Question 8** <br/> What Job Title was most common?\n",
        "\n",
        "*Hint:* Use the method `describe()` on a DataFrame column. You will see summary information, which you can separate by adding another method (ie to find the frequency of the most common Job Title you would code `income['Job Title'].describe().freq`)."
      ]
    },
    {
      "cell_type": "code",
      "metadata": {
        "id": "SfrbuPf_yGao",
        "colab_type": "code",
        "colab": {
          "base_uri": "https://localhost:8080/",
          "height": 35
        },
        "outputId": "aef70850-d8d5-4513-e3c3-dd7e6e5d7f88"
      },
      "source": [
        "income['Job Title'].describe().top"
      ],
      "execution_count": 40,
      "outputs": [
        {
          "output_type": "execute_result",
          "data": {
            "application/vnd.google.colaboratory.intrinsic+json": {
              "type": "string"
            },
            "text/plain": [
              "'Professor'"
            ]
          },
          "metadata": {
            "tags": []
          },
          "execution_count": 40
        }
      ]
    },
    {
      "cell_type": "markdown",
      "metadata": {
        "id": "ef4HJwKDyGar",
        "colab_type": "text"
      },
      "source": [
        "**Question 9**<br/>\n",
        "How many different Employers are included in the dataset?\n",
        "\n",
        "*Hint:* The method `nunique()` on a DataFrame column (ie a pandas Series) returns the number of unique values. As an aside, the method `unique` returns an array of what those unique values are (try it if you want)."
      ]
    },
    {
      "cell_type": "code",
      "metadata": {
        "id": "APVgxWV4yGas",
        "colab_type": "code",
        "colab": {
          "base_uri": "https://localhost:8080/",
          "height": 35
        },
        "outputId": "39e2b4d3-e39d-4d98-f872-875c55e992af"
      },
      "source": [
        "income['Employer'].nunique()"
      ],
      "execution_count": 41,
      "outputs": [
        {
          "output_type": "execute_result",
          "data": {
            "text/plain": [
              "1788"
            ]
          },
          "metadata": {
            "tags": []
          },
          "execution_count": 41
        }
      ]
    },
    {
      "cell_type": "markdown",
      "metadata": {
        "id": "PIwxQ2MvyGau",
        "colab_type": "text"
      },
      "source": [
        "**Question 10**<br/> \n",
        "How many employees did the University of Waterloo have in this dataset? Again use python to give the answer as a number."
      ]
    },
    {
      "cell_type": "code",
      "metadata": {
        "id": "f9jT3IqvyGau",
        "colab_type": "code",
        "colab": {
          "base_uri": "https://localhost:8080/",
          "height": 35
        },
        "outputId": "230d7d7d-7931-4eb6-816a-35ff1a5e6325"
      },
      "source": [
        "len(income[income['Employer'] == 'University of Waterloo'])"
      ],
      "execution_count": 42,
      "outputs": [
        {
          "output_type": "execute_result",
          "data": {
            "text/plain": [
              "1357"
            ]
          },
          "metadata": {
            "tags": []
          },
          "execution_count": 42
        }
      ]
    },
    {
      "cell_type": "markdown",
      "metadata": {
        "id": "JlA_aGzlyGaw",
        "colab_type": "text"
      },
      "source": [
        "**Question 11**<br/>\n",
        "What was the average employee salary of the University of Waterloo in this dataset?"
      ]
    },
    {
      "cell_type": "code",
      "metadata": {
        "id": "fIAejEfqyGax",
        "colab_type": "code",
        "colab": {
          "base_uri": "https://localhost:8080/",
          "height": 35
        },
        "outputId": "a59805ba-682c-4452-c0bc-850629db3841"
      },
      "source": [
        "income[income['Employer'] == 'University of Waterloo']['2016 Salary ($)'].mean()"
      ],
      "execution_count": 43,
      "outputs": [
        {
          "output_type": "execute_result",
          "data": {
            "text/plain": [
              "150572.18347089156"
            ]
          },
          "metadata": {
            "tags": []
          },
          "execution_count": 43
        }
      ]
    },
    {
      "cell_type": "markdown",
      "metadata": {
        "id": "E7tbHpO2yGa0",
        "colab_type": "text"
      },
      "source": [
        "**Question 12**<br/>\n",
        "Create a histogram of employee salary of University of Waterloo employees, using 50 bins."
      ]
    },
    {
      "cell_type": "code",
      "metadata": {
        "id": "USxavll_yGa1",
        "colab_type": "code",
        "colab": {
          "base_uri": "https://localhost:8080/",
          "height": 282
        },
        "outputId": "f782eba1-bc4e-4e8c-f52e-49144e3ce8bc"
      },
      "source": [
        "income[income['Employer'] == 'University of Waterloo']['2016 Salary ($)'].hist(bins = 50)"
      ],
      "execution_count": null,
      "outputs": [
        {
          "output_type": "execute_result",
          "data": {
            "text/plain": [
              "<matplotlib.axes._subplots.AxesSubplot at 0x7fb4a5589400>"
            ]
          },
          "metadata": {
            "tags": []
          },
          "execution_count": 66
        },
        {
          "output_type": "display_data",
          "data": {
            "image/png": "[encoded data removed]",
            "text/plain": [
              "<Figure size 432x288 with 1 Axes>"
            ]
          },
          "metadata": {
            "tags": [],
            "needs_background": "light"
          }
        }
      ]
    },
    {
      "cell_type": "markdown",
      "metadata": {
        "id": "iAhukTLO8Q41",
        "colab_type": "text"
      },
      "source": [
        "**Question 13**<br/>\n",
        "How many 'Professor'-s making more than CAN$100,000/yr are employed at the University of Waterloo?"
      ]
    },
    {
      "cell_type": "code",
      "metadata": {
        "id": "vD8uDqxt8c00",
        "colab_type": "code",
        "colab": {
          "base_uri": "https://localhost:8080/",
          "height": 35
        },
        "outputId": "58730cef-93fe-4243-8579-9f75ab0a55a1"
      },
      "source": [
        "len(income[(income['Job Title'] == 'Professor') & (income['Employer'] == 'University of Waterloo') & (income['2016 Salary ($)'] > 100000)])"
      ],
      "execution_count": 44,
      "outputs": [
        {
          "output_type": "execute_result",
          "data": {
            "text/plain": [
              "428"
            ]
          },
          "metadata": {
            "tags": []
          },
          "execution_count": 44
        }
      ]
    },
    {
      "cell_type": "markdown",
      "metadata": {
        "id": "8k7p8syy78D3",
        "colab_type": "text"
      },
      "source": [
        "**Question 14**<br/>\n",
        "Create a histogram of University of Waterloo 'Professor'-s, using 50 bins."
      ]
    },
    {
      "cell_type": "code",
      "metadata": {
        "id": "mkFweli670d2",
        "colab_type": "code",
        "colab": {
          "base_uri": "https://localhost:8080/",
          "height": 315
        },
        "outputId": "480a5fd1-7e98-4945-fed5-f60f2d82edc4"
      },
      "source": [
        "income[(income['Job Title'] == 'Professor') & (income['Employer'] == 'University of Waterloo')].hist(bins = 50)"
      ],
      "execution_count": 45,
      "outputs": [
        {
          "output_type": "execute_result",
          "data": {
            "text/plain": [
              "array([[<matplotlib.axes._subplots.AxesSubplot object at 0x7fc071d34278>]],\n",
              "      dtype=object)"
            ]
          },
          "metadata": {
            "tags": []
          },
          "execution_count": 45
        },
        {
          "output_type": "display_data",
          "data": {
            "image/png": "[encoded data removed]",
            "text/plain": [
              "<Figure size 432x288 with 1 Axes>"
            ]
          },
          "metadata": {
            "tags": [],
            "needs_background": "light"
          }
        }
      ]
    },
    {
      "cell_type": "markdown",
      "metadata": {
        "id": "uQOMFQfh9BMi",
        "colab_type": "text"
      },
      "source": [
        "**Question 15**<br/>\n",
        "How many professors of any type (contains 'Prof') are making more than CAN$100,000 at the University of Waterloo?"
      ]
    },
    {
      "cell_type": "code",
      "metadata": {
        "id": "AOdQpXc79JBn",
        "colab_type": "code",
        "colab": {
          "base_uri": "https://localhost:8080/",
          "height": 35
        },
        "outputId": "60cca961-5a0b-4b27-cbc6-154b5a78ca44"
      },
      "source": [
        "len(income[(income['Job Title'].str.contains('Prof')) & (income['2016 Salary ($)'] > 100000) & (income['Employer'] == 'University of Waterloo')])"
      ],
      "execution_count": null,
      "outputs": [
        {
          "output_type": "execute_result",
          "data": {
            "text/plain": [
              "967"
            ]
          },
          "metadata": {
            "tags": []
          },
          "execution_count": 93
        }
      ]
    },
    {
      "cell_type": "markdown",
      "metadata": {
        "id": "XkefJBFQ9pTH",
        "colab_type": "text"
      },
      "source": [
        "**Question 16**<br/>\n",
        "Plot a histogram of these professors (contains 'Prof'), using 50 bins."
      ]
    },
    {
      "cell_type": "code",
      "metadata": {
        "id": "QOAwAShS9p7Z",
        "colab_type": "code",
        "colab": {
          "base_uri": "https://localhost:8080/",
          "height": 315
        },
        "outputId": "621ea07d-08cf-48ab-9137-bf453f669bb3"
      },
      "source": [
        "income[(income['Job Title'].str.contains('Prof')) & (income['2016 Salary ($)'] > 100000) & (income['Employer'] == 'University of Waterloo')].hist(bins = 50)"
      ],
      "execution_count": null,
      "outputs": [
        {
          "output_type": "execute_result",
          "data": {
            "text/plain": [
              "array([[<matplotlib.axes._subplots.AxesSubplot object at 0x7fb4a3592358>]],\n",
              "      dtype=object)"
            ]
          },
          "metadata": {
            "tags": []
          },
          "execution_count": 94
        },
        {
          "output_type": "display_data",
          "data": {
            "image/png": "[encoded data removed]",
            "text/plain": [
              "<Figure size 432x288 with 1 Axes>"
            ]
          },
          "metadata": {
            "tags": [],
            "needs_background": "light"
          }
        }
      ]
    }
  ]
}