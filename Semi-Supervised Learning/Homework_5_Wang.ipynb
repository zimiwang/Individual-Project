{
  "nbformat": 4,
  "nbformat_minor": 0,
  "metadata": {
    "colab": {
      "name": "Homework_5_Wang.ipynb",
      "provenance": [],
      "collapsed_sections": []
    },
    "kernelspec": {
      "name": "python3",
      "display_name": "Python 3"
    }
  },
  "cells": [
    {
      "cell_type": "markdown",
      "metadata": {
        "id": "9F1AY6wBZRVE",
        "colab_type": "text"
      },
      "source": [
        "# Homework 5: GroupBy\n",
        "Dr. Leslie Kerby <br>\n",
        "Data Science and Applied Machine Learning <br>\n",
        "Student's Name: Ziming Wang"
      ]
    },
    {
      "cell_type": "code",
      "metadata": {
        "id": "Hv2ZfblJZN9Z",
        "colab_type": "code",
        "colab": {
          "base_uri": "https://localhost:8080/",
          "height": 198
        },
        "outputId": "64242f2f-594c-4991-887d-df289af337ec"
      },
      "source": [
        "import numpy as np\n",
        "import pandas as pd\n",
        "income = pd.read_csv('https://raw.githubusercontent.com/LGKerby/Python/master/en-2016-pssd-compendium.csv')\n",
        "income.head()"
      ],
      "execution_count": 1,
      "outputs": [
        {
          "output_type": "execute_result",
          "data": {
            "text/html": [
              "<div>\n",
              "<style scoped>\n",
              "    .dataframe tbody tr th:only-of-type {\n",
              "        vertical-align: middle;\n",
              "    }\n",
              "\n",
              "    .dataframe tbody tr th {\n",
              "        vertical-align: top;\n",
              "    }\n",
              "\n",
              "    .dataframe thead th {\n",
              "        text-align: right;\n",
              "    }\n",
              "</style>\n",
              "<table border=\"1\" class=\"dataframe\">\n",
              "  <thead>\n",
              "    <tr style=\"text-align: right;\">\n",
              "      <th></th>\n",
              "      <th>Sector</th>\n",
              "      <th>Last Name</th>\n",
              "      <th>First Name</th>\n",
              "      <th>Salary Paid</th>\n",
              "      <th>Taxable Benefits</th>\n",
              "      <th>Employer</th>\n",
              "      <th>Job Title</th>\n",
              "      <th>Calendar Year</th>\n",
              "    </tr>\n",
              "  </thead>\n",
              "  <tbody>\n",
              "    <tr>\n",
              "      <th>0</th>\n",
              "      <td>Colleges</td>\n",
              "      <td>Abbas</td>\n",
              "      <td>Sadiq</td>\n",
              "      <td>$105,595.39</td>\n",
              "      <td>$84.24</td>\n",
              "      <td>Algonquin College</td>\n",
              "      <td>Professor</td>\n",
              "      <td>2016</td>\n",
              "    </tr>\n",
              "    <tr>\n",
              "      <th>1</th>\n",
              "      <td>Colleges</td>\n",
              "      <td>Abboud</td>\n",
              "      <td>Nadim</td>\n",
              "      <td>$108,393.10</td>\n",
              "      <td>$126.96</td>\n",
              "      <td>Algonquin College</td>\n",
              "      <td>Professor</td>\n",
              "      <td>2016</td>\n",
              "    </tr>\n",
              "    <tr>\n",
              "      <th>2</th>\n",
              "      <td>Colleges</td>\n",
              "      <td>Agate</td>\n",
              "      <td>Jeffery M.</td>\n",
              "      <td>$125,779.64</td>\n",
              "      <td>$325.58</td>\n",
              "      <td>Algonquin College</td>\n",
              "      <td>Associate Director, Student Support Services</td>\n",
              "      <td>2016</td>\n",
              "    </tr>\n",
              "    <tr>\n",
              "      <th>3</th>\n",
              "      <td>Colleges</td>\n",
              "      <td>Al-Azzawi</td>\n",
              "      <td>Abdul</td>\n",
              "      <td>$105,595.41</td>\n",
              "      <td>$84.24</td>\n",
              "      <td>Algonquin College</td>\n",
              "      <td>Professor</td>\n",
              "      <td>2016</td>\n",
              "    </tr>\n",
              "    <tr>\n",
              "      <th>4</th>\n",
              "      <td>Colleges</td>\n",
              "      <td>Alexander</td>\n",
              "      <td>Doug</td>\n",
              "      <td>$105,595.41</td>\n",
              "      <td>$126.96</td>\n",
              "      <td>Algonquin College</td>\n",
              "      <td>Professor</td>\n",
              "      <td>2016</td>\n",
              "    </tr>\n",
              "  </tbody>\n",
              "</table>\n",
              "</div>"
            ],
            "text/plain": [
              "     Sector  ... Calendar Year\n",
              "0  Colleges  ...          2016\n",
              "1  Colleges  ...          2016\n",
              "2  Colleges  ...          2016\n",
              "3  Colleges  ...          2016\n",
              "4  Colleges  ...          2016\n",
              "\n",
              "[5 rows x 8 columns]"
            ]
          },
          "metadata": {
            "tags": []
          },
          "execution_count": 1
        }
      ]
    },
    {
      "cell_type": "markdown",
      "metadata": {
        "id": "8t3pVT6HZdEp",
        "colab_type": "text"
      },
      "source": [
        "**Question 1**</br>\n",
        "Use apply to create a new column called 'Salary ($)' which contains salary as a number."
      ]
    },
    {
      "cell_type": "code",
      "metadata": {
        "id": "n7S3ypx7ZOQz",
        "colab_type": "code",
        "colab": {
          "base_uri": "https://localhost:8080/",
          "height": 198
        },
        "outputId": "d4a14641-6eaf-48be-e8bc-b4487b00836d"
      },
      "source": [
        "income['Salary ($)'] = income['Salary Paid'].apply( lambda x : float(x.strip('$').replace(',', '')) )\n",
        "income.head()"
      ],
      "execution_count": 3,
      "outputs": [
        {
          "output_type": "execute_result",
          "data": {
            "text/html": [
              "<div>\n",
              "<style scoped>\n",
              "    .dataframe tbody tr th:only-of-type {\n",
              "        vertical-align: middle;\n",
              "    }\n",
              "\n",
              "    .dataframe tbody tr th {\n",
              "        vertical-align: top;\n",
              "    }\n",
              "\n",
              "    .dataframe thead th {\n",
              "        text-align: right;\n",
              "    }\n",
              "</style>\n",
              "<table border=\"1\" class=\"dataframe\">\n",
              "  <thead>\n",
              "    <tr style=\"text-align: right;\">\n",
              "      <th></th>\n",
              "      <th>Sector</th>\n",
              "      <th>Last Name</th>\n",
              "      <th>First Name</th>\n",
              "      <th>Salary Paid</th>\n",
              "      <th>Taxable Benefits</th>\n",
              "      <th>Employer</th>\n",
              "      <th>Job Title</th>\n",
              "      <th>Calendar Year</th>\n",
              "      <th>Salary ($)</th>\n",
              "    </tr>\n",
              "  </thead>\n",
              "  <tbody>\n",
              "    <tr>\n",
              "      <th>0</th>\n",
              "      <td>Colleges</td>\n",
              "      <td>Abbas</td>\n",
              "      <td>Sadiq</td>\n",
              "      <td>$105,595.39</td>\n",
              "      <td>$84.24</td>\n",
              "      <td>Algonquin College</td>\n",
              "      <td>Professor</td>\n",
              "      <td>2016</td>\n",
              "      <td>105595.39</td>\n",
              "    </tr>\n",
              "    <tr>\n",
              "      <th>1</th>\n",
              "      <td>Colleges</td>\n",
              "      <td>Abboud</td>\n",
              "      <td>Nadim</td>\n",
              "      <td>$108,393.10</td>\n",
              "      <td>$126.96</td>\n",
              "      <td>Algonquin College</td>\n",
              "      <td>Professor</td>\n",
              "      <td>2016</td>\n",
              "      <td>108393.10</td>\n",
              "    </tr>\n",
              "    <tr>\n",
              "      <th>2</th>\n",
              "      <td>Colleges</td>\n",
              "      <td>Agate</td>\n",
              "      <td>Jeffery M.</td>\n",
              "      <td>$125,779.64</td>\n",
              "      <td>$325.58</td>\n",
              "      <td>Algonquin College</td>\n",
              "      <td>Associate Director, Student Support Services</td>\n",
              "      <td>2016</td>\n",
              "      <td>125779.64</td>\n",
              "    </tr>\n",
              "    <tr>\n",
              "      <th>3</th>\n",
              "      <td>Colleges</td>\n",
              "      <td>Al-Azzawi</td>\n",
              "      <td>Abdul</td>\n",
              "      <td>$105,595.41</td>\n",
              "      <td>$84.24</td>\n",
              "      <td>Algonquin College</td>\n",
              "      <td>Professor</td>\n",
              "      <td>2016</td>\n",
              "      <td>105595.41</td>\n",
              "    </tr>\n",
              "    <tr>\n",
              "      <th>4</th>\n",
              "      <td>Colleges</td>\n",
              "      <td>Alexander</td>\n",
              "      <td>Doug</td>\n",
              "      <td>$105,595.41</td>\n",
              "      <td>$126.96</td>\n",
              "      <td>Algonquin College</td>\n",
              "      <td>Professor</td>\n",
              "      <td>2016</td>\n",
              "      <td>105595.41</td>\n",
              "    </tr>\n",
              "  </tbody>\n",
              "</table>\n",
              "</div>"
            ],
            "text/plain": [
              "     Sector  Last Name  ... Calendar Year Salary ($)\n",
              "0  Colleges      Abbas  ...          2016  105595.39\n",
              "1  Colleges     Abboud  ...          2016  108393.10\n",
              "2  Colleges      Agate  ...          2016  125779.64\n",
              "3  Colleges  Al-Azzawi  ...          2016  105595.41\n",
              "4  Colleges  Alexander  ...          2016  105595.41\n",
              "\n",
              "[5 rows x 9 columns]"
            ]
          },
          "metadata": {
            "tags": []
          },
          "execution_count": 3
        }
      ]
    },
    {
      "cell_type": "markdown",
      "metadata": {
        "id": "jm9Yfrq7Zhco",
        "colab_type": "text"
      },
      "source": [
        "**Question 2**</br>\n",
        "Use `groupby` on `Sector` to create a subset of the `income` DataFrame (call it `universities`) that contains only Universities. Create a second subset DataFrame called `colleges` that contains only Colleges. </br>\n",
        "*Hint: There are 35 universities (with a total of 17,948 employees) and 24 colleges (with a total of 5,375 employees) in the `income` dataset.*"
      ]
    },
    {
      "cell_type": "code",
      "metadata": {
        "id": "566DAVNtZlKK",
        "colab_type": "code",
        "colab": {
          "base_uri": "https://localhost:8080/",
          "height": 501
        },
        "outputId": "8165b0e8-dbc2-48ba-8cfe-7c889bdb5ab5"
      },
      "source": [
        "universities = income.groupby('Sector').get_group('Universities')\n",
        "colleges = income.groupby('Sector').get_group('Colleges')\n",
        "print(universities)\n",
        "print(colleges)"
      ],
      "execution_count": 70,
      "outputs": [
        {
          "output_type": "stream",
          "text": [
            "              Sector  Last Name  ... Calendar Year Salary ($)\n",
            "106497  Universities    Antunes  ...          2016  111522.52\n",
            "106498  Universities    Biocchi  ...          2016  101054.66\n",
            "106499  Universities      Boyle  ...          2016  107326.52\n",
            "106500  Universities      Broad  ...          2016  150650.00\n",
            "106501  Universities   Brodbeck  ...          2016  117580.69\n",
            "...              ...        ...  ...           ...        ...\n",
            "124440  Universities      Zikic  ...          2016  185684.11\n",
            "124441  Universities  Zimmerman  ...          2016  139863.15\n",
            "124442  Universities      Zoidl  ...          2016  207119.70\n",
            "124443  Universities       Zryd  ...          2016  161816.45\n",
            "124444  Universities      Zwick  ...          2016  227631.59\n",
            "\n",
            "[17948 rows x 9 columns]\n",
            "        Sector  Last Name  ... Calendar Year Salary ($)\n",
            "0     Colleges      Abbas  ...          2016  105595.39\n",
            "1     Colleges     Abboud  ...          2016  108393.10\n",
            "2     Colleges      Agate  ...          2016  125779.64\n",
            "3     Colleges  Al-Azzawi  ...          2016  105595.41\n",
            "4     Colleges  Alexander  ...          2016  105595.41\n",
            "...        ...        ...  ...           ...        ...\n",
            "5370  Colleges     Willis  ...          2016  107675.36\n",
            "5371  Colleges    Woudsma  ...          2016  102142.32\n",
            "5372  Colleges     Wright  ...          2016  123085.46\n",
            "5373  Colleges      Young  ...          2016  147696.28\n",
            "5374  Colleges     Zuback  ...          2016  109235.11\n",
            "\n",
            "[5375 rows x 9 columns]\n"
          ],
          "name": "stdout"
        }
      ]
    },
    {
      "cell_type": "markdown",
      "metadata": {
        "id": "UJpByjtqZlm0",
        "colab_type": "text"
      },
      "source": [
        "**Question 3**</br>\n",
        "Calculate the average salary and standard deviation for employees at `universities` and compare it to the average salary and standard deviation for employees at `colleges`. </br>\n",
        "Create histogram plots of the salaries for both `universities` and `colleges`. Show plots of both tally bins and as a probability distribution.\n",
        "</br> What do you observe?"
      ]
    },
    {
      "cell_type": "code",
      "metadata": {
        "id": "fSKqB4mOZmEL",
        "colab_type": "code",
        "colab": {
          "base_uri": "https://localhost:8080/",
          "height": 121
        },
        "outputId": "7caa606a-5262-4bd4-8e13-86f06f15543f"
      },
      "source": [
        "print(universities['Salary ($)'].agg([np.mean, np.std]))\n",
        "print(colleges['Salary ($)'].agg([np.mean, np.std]))"
      ],
      "execution_count": 180,
      "outputs": [
        {
          "output_type": "stream",
          "text": [
            "mean    150235.606819\n",
            "std      42138.946408\n",
            "Name: Salary ($), dtype: float64\n",
            "mean    113920.959600\n",
            "std      22498.801433\n",
            "Name: Salary ($), dtype: float64\n"
          ],
          "name": "stdout"
        }
      ]
    },
    {
      "cell_type": "code",
      "metadata": {
        "id": "ZeZi0201QSCB",
        "colab_type": "code",
        "colab": {
          "base_uri": "https://localhost:8080/",
          "height": 295
        },
        "outputId": "090c46ab-7f3b-4651-f059-5a0692a6e3b9"
      },
      "source": [
        "universities['Salary ($)'].plot.hist(bins = 50)\n",
        "colleges['Salary ($)'].plot.hist(bins = 50) # Print hist"
      ],
      "execution_count": 181,
      "outputs": [
        {
          "output_type": "execute_result",
          "data": {
            "text/plain": [
              "<matplotlib.axes._subplots.AxesSubplot at 0x7f90776f10b8>"
            ]
          },
          "metadata": {
            "tags": []
          },
          "execution_count": 181
        },
        {
          "output_type": "display_data",
          "data": {
            "image/png": "[encoded data removed]",
            "text/plain": [
              "<Figure size 432x288 with 1 Axes>"
            ]
          },
          "metadata": {
            "tags": [],
            "needs_background": "light"
          }
        }
      ]
    },
    {
      "cell_type": "code",
      "metadata": {
        "id": "0WPNaghDcn_M",
        "colab_type": "code",
        "colab": {
          "base_uri": "https://localhost:8080/",
          "height": 306
        },
        "outputId": "9535aee0-c902-4b0b-c17e-3d3b03083d4c"
      },
      "source": [
        "universities['Salary ($)'].plot.density()\n",
        "colleges['Salary ($)'].plot.density() # Print density\n",
        "\n",
        "# The salary of colleges is much higher than that of universities"
      ],
      "execution_count": 182,
      "outputs": [
        {
          "output_type": "execute_result",
          "data": {
            "text/plain": [
              "<matplotlib.axes._subplots.AxesSubplot at 0x7f9077667a58>"
            ]
          },
          "metadata": {
            "tags": []
          },
          "execution_count": 182
        },
        {
          "output_type": "display_data",
          "data": {
            "image/png": "[encoded data removed]",
            "text/plain": [
              "<Figure size 432x288 with 1 Axes>"
            ]
          },
          "metadata": {
            "tags": [],
            "needs_background": "light"
          }
        }
      ]
    },
    {
      "cell_type": "markdown",
      "metadata": {
        "id": "p9qiBKT9bfoV",
        "colab_type": "text"
      },
      "source": [
        "**Question 4**</br>\n",
        "GroupBy `Employer` in the `universities` and `colleges` DataFrames. </br>\n",
        "Plot a bar chart of the average salary for each Employer in `universities`. Do the same for `colleges`.</br>\n",
        "Find the lowest and highest average-salary University. For each, how many employees do they have making over $100,000CAN? Do some basic internet searching on each university and hypothesize why they have the highest and lowest average high-income earners."
      ]
    },
    {
      "cell_type": "code",
      "metadata": {
        "id": "03u-u7kMbf9M",
        "colab_type": "code",
        "colab": {}
      },
      "source": [
        "universities.groupby('Employer').mean().plot.bar()\n",
        "colleges.groupby('Employer').mean().plot.bar()  # bar chart"
      ],
      "execution_count": null,
      "outputs": []
    },
    {
      "cell_type": "code",
      "metadata": {
        "id": "lKIitB2rQsEh",
        "colab_type": "code",
        "colab": {
          "base_uri": "https://localhost:8080/",
          "height": 86
        },
        "outputId": "ed300225-2d71-4990-ffdb-b912635db765"
      },
      "source": [
        "print(universities.groupby('Employer').mean().idxmin())\n",
        "universities.groupby('Employer').mean().min() # lowest average-salary University"
      ],
      "execution_count": 176,
      "outputs": [
        {
          "output_type": "stream",
          "text": [
            "Salary ($)    Saint Paul University\n",
            "dtype: object\n"
          ],
          "name": "stdout"
        },
        {
          "output_type": "execute_result",
          "data": {
            "text/plain": [
              "Salary ($)    108079.975294\n",
              "dtype: float64"
            ]
          },
          "metadata": {
            "tags": []
          },
          "execution_count": 176
        }
      ]
    },
    {
      "cell_type": "code",
      "metadata": {
        "id": "V71LMXyuUkE_",
        "colab_type": "code",
        "colab": {
          "base_uri": "https://localhost:8080/",
          "height": 86
        },
        "outputId": "02501a8b-cb60-4d99-a21b-9129d4a6b0eb"
      },
      "source": [
        "print(universities.groupby('Employer').mean().idxmax())\n",
        "universities.groupby('Employer').mean().max() # Highest average-salary University"
      ],
      "execution_count": 177,
      "outputs": [
        {
          "output_type": "stream",
          "text": [
            "Salary ($)    University of Toronto\n",
            "dtype: object\n"
          ],
          "name": "stdout"
        },
        {
          "output_type": "execute_result",
          "data": {
            "text/plain": [
              "Salary ($)    160999.197609\n",
              "dtype: float64"
            ]
          },
          "metadata": {
            "tags": []
          },
          "execution_count": 177
        }
      ]
    },
    {
      "cell_type": "code",
      "metadata": {
        "id": "3odSaW8MYXZK",
        "colab_type": "code",
        "colab": {}
      },
      "source": [
        "Lowest_University = universities.groupby('Employer').mean().idxmin().item()\n",
        "Highest_University = universities.groupby('Employer').mean().idxmax().item()\n",
        "\n",
        "Lowest_income = universities.groupby('Employer').get_group(Lowest_University)\n",
        "len(Lowest_income[Lowest_income['Salary ($)'] > 100000])  # How many employees do they have making over $100,000CAN on the lowest average-salary University"
      ],
      "execution_count": null,
      "outputs": []
    },
    {
      "cell_type": "code",
      "metadata": {
        "id": "KKLHOenmbUKQ",
        "colab_type": "code",
        "colab": {}
      },
      "source": [
        "Highest_income = universities.groupby('Employer').get_group(Highest_University)\n",
        "len(Highest_income[Highest_income['Salary ($)'] > 100000])  # How many employees do they have making over $100,000CAN on the highest average-salary University"
      ],
      "execution_count": null,
      "outputs": []
    },
    {
      "cell_type": "code",
      "metadata": {
        "id": "xrrafntPhj6d",
        "colab_type": "code",
        "colab": {}
      },
      "source": [
        "# Because Saint Paul University ranks more than 8000 globally, and the University of Toronto ranks more than 20 globally. Most students are willing to study in top-ranked schools.\n",
        "# So the University of Toronto's income will be higher, and at the same time, the employees' wages will also be higher."
      ],
      "execution_count": 179,
      "outputs": []
    },
    {
      "cell_type": "markdown",
      "metadata": {
        "id": "1XexAUhGdgmB",
        "colab_type": "text"
      },
      "source": [
        "**Question 5**</br>\n",
        "Select only the `University of Waterloo` group from the Question 4 GroupBy DataFrame; save it as `waterloo`.</br>\n",
        "Use a Boolean Mask to keep only `Job Title`s that contain `Professor`. How many employees were filtered out in doing this? </br>\n",
        "Then GroupBy `waterloo` by `Job Title`. Plot the average salary for each `Job Title` group. </br>\n",
        "Now use `filter` to keep only the `groups` which have at least `10` employees, and again plot the average salary for each `Job Title` group left. </br>\n",
        "What do you observe?\n"
      ]
    },
    {
      "cell_type": "code",
      "metadata": {
        "id": "3YG3cOIYdg1H",
        "colab_type": "code",
        "colab": {}
      },
      "source": [
        "waterloo = universities.groupby('Employer').get_group('University of Waterloo')\n",
        "waterloo"
      ],
      "execution_count": null,
      "outputs": []
    },
    {
      "cell_type": "code",
      "metadata": {
        "id": "LufWwPhzCskW",
        "colab_type": "code",
        "colab": {}
      },
      "source": [
        "Professor_water_contain = waterloo[waterloo['Job Title'].str.contains('Professor')]\n",
        "len(waterloo) - len(Professor_water_contain) #  How many employees were filtered out in doing this( The job Title contains \"Professor\" )"
      ],
      "execution_count": null,
      "outputs": []
    },
    {
      "cell_type": "code",
      "metadata": {
        "id": "76rAqU8fnAOn",
        "colab_type": "code",
        "colab": {}
      },
      "source": [
        "Professor_after = Professor_water_contain.groupby('Job Title')\n",
        "Professor_after"
      ],
      "execution_count": null,
      "outputs": []
    },
    {
      "cell_type": "code",
      "metadata": {
        "id": "Yn8kqsHEWps-",
        "colab_type": "code",
        "colab": {
          "base_uri": "https://localhost:8080/",
          "height": 556
        },
        "outputId": "4d7c2b2f-9f2b-4298-ea4f-cc616c89a3b0"
      },
      "source": [
        "Professor_after.mean().plot.bar()"
      ],
      "execution_count": 190,
      "outputs": [
        {
          "output_type": "execute_result",
          "data": {
            "text/plain": [
              "<matplotlib.axes._subplots.AxesSubplot at 0x7f90774d8c50>"
            ]
          },
          "metadata": {
            "tags": []
          },
          "execution_count": 190
        },
        {
          "output_type": "display_data",
          "data": {
            "image/png": "[encoded data removed]",
            "text/plain": [
              "<Figure size 432x288 with 1 Axes>"
            ]
          },
          "metadata": {
            "tags": [],
            "needs_background": "light"
          }
        }
      ]
    },
    {
      "cell_type": "code",
      "metadata": {
        "id": "2OtL9tKBXuWH",
        "colab_type": "code",
        "colab": {
          "base_uri": "https://localhost:8080/",
          "height": 384
        },
        "outputId": "25fbd2b1-1f8d-403f-8bf3-22f1b455dd05"
      },
      "source": [
        "Professor_after.filter( lambda x : len(x) > 9 ).groupby(\"Job Title\").mean().plot.bar()"
      ],
      "execution_count": 191,
      "outputs": [
        {
          "output_type": "execute_result",
          "data": {
            "text/plain": [
              "<matplotlib.axes._subplots.AxesSubplot at 0x7f907745e080>"
            ]
          },
          "metadata": {
            "tags": []
          },
          "execution_count": 191
        },
        {
          "output_type": "display_data",
          "data": {
            "image/png": "[encoded data removed]",
            "text/plain": [
              "<Figure size 432x288 with 1 Axes>"
            ]
          },
          "metadata": {
            "tags": [],
            "needs_background": "light"
          }
        }
      ]
    },
    {
      "cell_type": "code",
      "metadata": {
        "id": "78D3yhcz1bWj",
        "colab_type": "code",
        "colab": {}
      },
      "source": [
        "# I found that Professor makes the most money in the Job Title."
      ],
      "execution_count": null,
      "outputs": []
    },
    {
      "cell_type": "markdown",
      "metadata": {
        "id": "X3CNjJkbCsyO",
        "colab_type": "text"
      },
      "source": [
        "**Graduate Students Only:** \\\\\n",
        "Create your subsets of Universities and Colleges using a boolean mask on `Employer` instead of `groupby`. What differences do you observe in the two methods? Which is better? Are there colleges/universities with the French spelling that are left out of your subsets? Discuss."
      ]
    },
    {
      "cell_type": "code",
      "metadata": {
        "id": "gnDDrFTOCtFb",
        "colab_type": "code",
        "colab": {}
      },
      "source": [
        ""
      ],
      "execution_count": null,
      "outputs": []
    }
  ]
}