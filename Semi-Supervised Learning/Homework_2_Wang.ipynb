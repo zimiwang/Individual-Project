{
  "nbformat": 4,
  "nbformat_minor": 0,
  "metadata": {
    "anaconda-cloud": {},
    "kernelspec": {
      "display_name": "Python 3",
      "language": "python",
      "name": "python3"
    },
    "language_info": {
      "codemirror_mode": {
        "name": "ipython",
        "version": 3
      },
      "file_extension": ".py",
      "mimetype": "text/x-python",
      "name": "python",
      "nbconvert_exporter": "python",
      "pygments_lexer": "ipython3",
      "version": "3.6.5"
    },
    "colab": {
      "name": "Homework_2_Wang.ipynb",
      "provenance": [],
      "collapsed_sections": []
    }
  },
  "cells": [
    {
      "cell_type": "markdown",
      "metadata": {
        "id": "Y7APFjOTivtU",
        "colab_type": "text"
      },
      "source": [
        "# Homework 2: Pandas DataFrames\n",
        "Dr. Leslie Kerby </br>\n",
        "Data Science and Applied Machine Learning </br>\n",
        "Student's name: Ziming Wang"
      ]
    },
    {
      "cell_type": "code",
      "metadata": {
        "id": "grHBYFQGivtW",
        "colab_type": "code",
        "colab": {}
      },
      "source": [
        "import numpy as np\n",
        "import pandas as pd"
      ],
      "execution_count": 8,
      "outputs": []
    },
    {
      "cell_type": "markdown",
      "metadata": {
        "id": "GZkgQHycivtZ",
        "colab_type": "text"
      },
      "source": [
        "## 1. World Population\n",
        "\n",
        "**Question 1.1**<br/>\n",
        "Read in the 'world_population.csv' file. Adjust your DataFrame to keep only the 'Year' and 'Population' columns. Show the first 5 elements with the `head` method."
      ]
    },
    {
      "cell_type": "code",
      "metadata": {
        "id": "dAs5FWtjivta",
        "colab_type": "code",
        "colab": {
          "base_uri": "https://localhost:8080/",
          "height": 198
        },
        "outputId": "deb8fb04-4a92-42c2-dd5c-15359ba8ee9a"
      },
      "source": [
        "world_pop = pd.read_csv('https://raw.githubusercontent.com/LGKerby/Python/master/world_population.csv',usecols=['Year','Population'])\n",
        "world_pop.head(5)"
      ],
      "execution_count": 2,
      "outputs": [
        {
          "output_type": "execute_result",
          "data": {
            "text/html": [
              "<div>\n",
              "<style scoped>\n",
              "    .dataframe tbody tr th:only-of-type {\n",
              "        vertical-align: middle;\n",
              "    }\n",
              "\n",
              "    .dataframe tbody tr th {\n",
              "        vertical-align: top;\n",
              "    }\n",
              "\n",
              "    .dataframe thead th {\n",
              "        text-align: right;\n",
              "    }\n",
              "</style>\n",
              "<table border=\"1\" class=\"dataframe\">\n",
              "  <thead>\n",
              "    <tr style=\"text-align: right;\">\n",
              "      <th></th>\n",
              "      <th>Year</th>\n",
              "      <th>Population</th>\n",
              "    </tr>\n",
              "  </thead>\n",
              "  <tbody>\n",
              "    <tr>\n",
              "      <th>0</th>\n",
              "      <td>1950</td>\n",
              "      <td>2557628654</td>\n",
              "    </tr>\n",
              "    <tr>\n",
              "      <th>1</th>\n",
              "      <td>1951</td>\n",
              "      <td>2594939877</td>\n",
              "    </tr>\n",
              "    <tr>\n",
              "      <th>2</th>\n",
              "      <td>1952</td>\n",
              "      <td>2636772306</td>\n",
              "    </tr>\n",
              "    <tr>\n",
              "      <th>3</th>\n",
              "      <td>1953</td>\n",
              "      <td>2682053389</td>\n",
              "    </tr>\n",
              "    <tr>\n",
              "      <th>4</th>\n",
              "      <td>1954</td>\n",
              "      <td>2730228104</td>\n",
              "    </tr>\n",
              "  </tbody>\n",
              "</table>\n",
              "</div>"
            ],
            "text/plain": [
              "   Year  Population\n",
              "0  1950  2557628654\n",
              "1  1951  2594939877\n",
              "2  1952  2636772306\n",
              "3  1953  2682053389\n",
              "4  1954  2730228104"
            ]
          },
          "metadata": {
            "tags": []
          },
          "execution_count": 2
        }
      ]
    },
    {
      "cell_type": "markdown",
      "metadata": {
        "id": "hb-E5FZDivtd",
        "colab_type": "text"
      },
      "source": [
        "**Question 1.2**<br/>\n",
        "How many rows (years) are in the DataFrame? Use python code to give the answer."
      ]
    },
    {
      "cell_type": "code",
      "metadata": {
        "id": "KL6zUvkmivte",
        "colab_type": "code",
        "colab": {
          "base_uri": "https://localhost:8080/",
          "height": 35
        },
        "outputId": "563aab11-a24b-4f89-c590-246edb4a283f"
      },
      "source": [
        "len(world_pop['Year'])"
      ],
      "execution_count": 9,
      "outputs": [
        {
          "output_type": "execute_result",
          "data": {
            "text/plain": [
              "66"
            ]
          },
          "metadata": {
            "tags": []
          },
          "execution_count": 9
        }
      ]
    },
    {
      "cell_type": "markdown",
      "metadata": {
        "id": "w7dou5NRivtg",
        "colab_type": "text"
      },
      "source": [
        "**Question 1.3**<br/>\n",
        "What was the population of the world in 1976? Use python code to give the answer."
      ]
    },
    {
      "cell_type": "code",
      "metadata": {
        "id": "bH0x45w4ivth",
        "colab_type": "code",
        "colab": {
          "base_uri": "https://localhost:8080/",
          "height": 35
        },
        "outputId": "f011202e-57d9-41f9-c766-60eae33dc113"
      },
      "source": [
        "answer = world_pop[world_pop['Year'] == 1976]['Population']\n",
        "answer.item()"
      ],
      "execution_count": 10,
      "outputs": [
        {
          "output_type": "execute_result",
          "data": {
            "text/plain": [
              "4160185010"
            ]
          },
          "metadata": {
            "tags": []
          },
          "execution_count": 10
        }
      ]
    },
    {
      "cell_type": "markdown",
      "metadata": {
        "id": "oAHjlmlpivtj",
        "colab_type": "text"
      },
      "source": [
        "**Question 1.4**<br/>\n",
        "Use a boolean mask to create a DataFrame called `last_quartile` that contains the world population from years 1975 to 1999. You may do this in two steps (use two boolean masks) or you may do this in one step using the 'and' operator `&`.\n",
        "\n",
        "*Hint:* For example, to select the years 1960 and 1970 from the DataFrame you would use the 'or' operator `|`:<br/>\n",
        "`population[ (population['Year'] == 1960) | (population['Year'] == 1970) ]`"
      ]
    },
    {
      "cell_type": "code",
      "metadata": {
        "id": "V0_CsMvaivtk",
        "colab_type": "code",
        "colab": {
          "base_uri": "https://localhost:8080/",
          "height": 798
        },
        "outputId": "459a99d8-7972-4ce7-b8b0-5ca0802ad8d1"
      },
      "source": [
        "last_quartile = world_pop[ (world_pop['Year'] >= 1975) & (world_pop['Year'] <= 1999) ]\n",
        "last_quartile"
      ],
      "execution_count": 11,
      "outputs": [
        {
          "output_type": "execute_result",
          "data": {
            "text/html": [
              "<div>\n",
              "<style scoped>\n",
              "    .dataframe tbody tr th:only-of-type {\n",
              "        vertical-align: middle;\n",
              "    }\n",
              "\n",
              "    .dataframe tbody tr th {\n",
              "        vertical-align: top;\n",
              "    }\n",
              "\n",
              "    .dataframe thead th {\n",
              "        text-align: right;\n",
              "    }\n",
              "</style>\n",
              "<table border=\"1\" class=\"dataframe\">\n",
              "  <thead>\n",
              "    <tr style=\"text-align: right;\">\n",
              "      <th></th>\n",
              "      <th>Year</th>\n",
              "      <th>Population</th>\n",
              "    </tr>\n",
              "  </thead>\n",
              "  <tbody>\n",
              "    <tr>\n",
              "      <th>25</th>\n",
              "      <td>1975</td>\n",
              "      <td>4089083233</td>\n",
              "    </tr>\n",
              "    <tr>\n",
              "      <th>26</th>\n",
              "      <td>1976</td>\n",
              "      <td>4160185010</td>\n",
              "    </tr>\n",
              "    <tr>\n",
              "      <th>27</th>\n",
              "      <td>1977</td>\n",
              "      <td>4232084578</td>\n",
              "    </tr>\n",
              "    <tr>\n",
              "      <th>28</th>\n",
              "      <td>1978</td>\n",
              "      <td>4304105753</td>\n",
              "    </tr>\n",
              "    <tr>\n",
              "      <th>29</th>\n",
              "      <td>1979</td>\n",
              "      <td>4379013942</td>\n",
              "    </tr>\n",
              "    <tr>\n",
              "      <th>30</th>\n",
              "      <td>1980</td>\n",
              "      <td>4451362735</td>\n",
              "    </tr>\n",
              "    <tr>\n",
              "      <th>31</th>\n",
              "      <td>1981</td>\n",
              "      <td>4534410125</td>\n",
              "    </tr>\n",
              "    <tr>\n",
              "      <th>32</th>\n",
              "      <td>1982</td>\n",
              "      <td>4614566561</td>\n",
              "    </tr>\n",
              "    <tr>\n",
              "      <th>33</th>\n",
              "      <td>1983</td>\n",
              "      <td>4695736743</td>\n",
              "    </tr>\n",
              "    <tr>\n",
              "      <th>34</th>\n",
              "      <td>1984</td>\n",
              "      <td>4774569391</td>\n",
              "    </tr>\n",
              "    <tr>\n",
              "      <th>35</th>\n",
              "      <td>1985</td>\n",
              "      <td>4856462699</td>\n",
              "    </tr>\n",
              "    <tr>\n",
              "      <th>36</th>\n",
              "      <td>1986</td>\n",
              "      <td>4940571232</td>\n",
              "    </tr>\n",
              "    <tr>\n",
              "      <th>37</th>\n",
              "      <td>1987</td>\n",
              "      <td>5027200492</td>\n",
              "    </tr>\n",
              "    <tr>\n",
              "      <th>38</th>\n",
              "      <td>1988</td>\n",
              "      <td>5114557167</td>\n",
              "    </tr>\n",
              "    <tr>\n",
              "      <th>39</th>\n",
              "      <td>1989</td>\n",
              "      <td>5201440110</td>\n",
              "    </tr>\n",
              "    <tr>\n",
              "      <th>40</th>\n",
              "      <td>1990</td>\n",
              "      <td>5288955934</td>\n",
              "    </tr>\n",
              "    <tr>\n",
              "      <th>41</th>\n",
              "      <td>1991</td>\n",
              "      <td>5371585922</td>\n",
              "    </tr>\n",
              "    <tr>\n",
              "      <th>42</th>\n",
              "      <td>1992</td>\n",
              "      <td>5456136278</td>\n",
              "    </tr>\n",
              "    <tr>\n",
              "      <th>43</th>\n",
              "      <td>1993</td>\n",
              "      <td>5538268316</td>\n",
              "    </tr>\n",
              "    <tr>\n",
              "      <th>44</th>\n",
              "      <td>1994</td>\n",
              "      <td>5618682132</td>\n",
              "    </tr>\n",
              "    <tr>\n",
              "      <th>45</th>\n",
              "      <td>1995</td>\n",
              "      <td>5699202985</td>\n",
              "    </tr>\n",
              "    <tr>\n",
              "      <th>46</th>\n",
              "      <td>1996</td>\n",
              "      <td>5779440593</td>\n",
              "    </tr>\n",
              "    <tr>\n",
              "      <th>47</th>\n",
              "      <td>1997</td>\n",
              "      <td>5857972543</td>\n",
              "    </tr>\n",
              "    <tr>\n",
              "      <th>48</th>\n",
              "      <td>1998</td>\n",
              "      <td>5935213248</td>\n",
              "    </tr>\n",
              "    <tr>\n",
              "      <th>49</th>\n",
              "      <td>1999</td>\n",
              "      <td>6012074922</td>\n",
              "    </tr>\n",
              "  </tbody>\n",
              "</table>\n",
              "</div>"
            ],
            "text/plain": [
              "    Year  Population\n",
              "25  1975  4089083233\n",
              "26  1976  4160185010\n",
              "27  1977  4232084578\n",
              "28  1978  4304105753\n",
              "29  1979  4379013942\n",
              "30  1980  4451362735\n",
              "31  1981  4534410125\n",
              "32  1982  4614566561\n",
              "33  1983  4695736743\n",
              "34  1984  4774569391\n",
              "35  1985  4856462699\n",
              "36  1986  4940571232\n",
              "37  1987  5027200492\n",
              "38  1988  5114557167\n",
              "39  1989  5201440110\n",
              "40  1990  5288955934\n",
              "41  1991  5371585922\n",
              "42  1992  5456136278\n",
              "43  1993  5538268316\n",
              "44  1994  5618682132\n",
              "45  1995  5699202985\n",
              "46  1996  5779440593\n",
              "47  1997  5857972543\n",
              "48  1998  5935213248\n",
              "49  1999  6012074922"
            ]
          },
          "metadata": {
            "tags": []
          },
          "execution_count": 11
        }
      ]
    },
    {
      "cell_type": "markdown",
      "metadata": {
        "id": "SS2aD5Mnivtm",
        "colab_type": "text"
      },
      "source": [
        "**Question 1.5**<br/>\n",
        "Now find the average of the world population in `last_quartile`. Use numpy to find the average."
      ]
    },
    {
      "cell_type": "code",
      "metadata": {
        "id": "bof_P3P-ivtm",
        "colab_type": "code",
        "colab": {
          "base_uri": "https://localhost:8080/",
          "height": 35
        },
        "outputId": "26538406-8c36-44b5-97c6-82a4fd29c244"
      },
      "source": [
        "np.mean(last_quartile['Population'])"
      ],
      "execution_count": 12,
      "outputs": [
        {
          "output_type": "execute_result",
          "data": {
            "text/plain": [
              "5037315305.76"
            ]
          },
          "metadata": {
            "tags": []
          },
          "execution_count": 12
        }
      ]
    },
    {
      "cell_type": "markdown",
      "metadata": {
        "id": "B-iGiKucivto",
        "colab_type": "text"
      },
      "source": [
        "## 2. Top Movies ##\n",
        "\n",
        "**Question 2.1**<br/>\n",
        "Read in 'top_movies.csv' into a DataFrame called `top_movies`. Show the first 5 rows with `head`."
      ]
    },
    {
      "cell_type": "code",
      "metadata": {
        "id": "m_tXGKWCivtp",
        "colab_type": "code",
        "colab": {
          "base_uri": "https://localhost:8080/",
          "height": 198
        },
        "outputId": "cbb59ec5-67f2-4fdd-d937-1aa2e775b216"
      },
      "source": [
        "movies = pd.read_csv('https://raw.githubusercontent.com/LGKerby/Python/master/top_movies.csv')\n",
        "movies.head(5)"
      ],
      "execution_count": 14,
      "outputs": [
        {
          "output_type": "execute_result",
          "data": {
            "text/html": [
              "<div>\n",
              "<style scoped>\n",
              "    .dataframe tbody tr th:only-of-type {\n",
              "        vertical-align: middle;\n",
              "    }\n",
              "\n",
              "    .dataframe tbody tr th {\n",
              "        vertical-align: top;\n",
              "    }\n",
              "\n",
              "    .dataframe thead th {\n",
              "        text-align: right;\n",
              "    }\n",
              "</style>\n",
              "<table border=\"1\" class=\"dataframe\">\n",
              "  <thead>\n",
              "    <tr style=\"text-align: right;\">\n",
              "      <th></th>\n",
              "      <th>Title</th>\n",
              "      <th>Studio</th>\n",
              "      <th>Gross</th>\n",
              "      <th>Gross (Adjusted)</th>\n",
              "      <th>Year</th>\n",
              "    </tr>\n",
              "  </thead>\n",
              "  <tbody>\n",
              "    <tr>\n",
              "      <th>0</th>\n",
              "      <td>Star Wars: The Force Awakens</td>\n",
              "      <td>Buena Vista (Disney)</td>\n",
              "      <td>906723418</td>\n",
              "      <td>906723400</td>\n",
              "      <td>2015</td>\n",
              "    </tr>\n",
              "    <tr>\n",
              "      <th>1</th>\n",
              "      <td>Avatar</td>\n",
              "      <td>Fox</td>\n",
              "      <td>760507625</td>\n",
              "      <td>846120800</td>\n",
              "      <td>2009</td>\n",
              "    </tr>\n",
              "    <tr>\n",
              "      <th>2</th>\n",
              "      <td>Titanic</td>\n",
              "      <td>Paramount</td>\n",
              "      <td>658672302</td>\n",
              "      <td>1178627900</td>\n",
              "      <td>1997</td>\n",
              "    </tr>\n",
              "    <tr>\n",
              "      <th>3</th>\n",
              "      <td>Jurassic World</td>\n",
              "      <td>Universal</td>\n",
              "      <td>652270625</td>\n",
              "      <td>687728000</td>\n",
              "      <td>2015</td>\n",
              "    </tr>\n",
              "    <tr>\n",
              "      <th>4</th>\n",
              "      <td>Marvel's The Avengers</td>\n",
              "      <td>Buena Vista (Disney)</td>\n",
              "      <td>623357910</td>\n",
              "      <td>668866600</td>\n",
              "      <td>2012</td>\n",
              "    </tr>\n",
              "  </tbody>\n",
              "</table>\n",
              "</div>"
            ],
            "text/plain": [
              "                          Title                Studio  ...  Gross (Adjusted)  Year\n",
              "0  Star Wars: The Force Awakens  Buena Vista (Disney)  ...         906723400  2015\n",
              "1                        Avatar                   Fox  ...         846120800  2009\n",
              "2                       Titanic             Paramount  ...        1178627900  1997\n",
              "3                Jurassic World             Universal  ...         687728000  2015\n",
              "4         Marvel's The Avengers  Buena Vista (Disney)  ...         668866600  2012\n",
              "\n",
              "[5 rows x 5 columns]"
            ]
          },
          "metadata": {
            "tags": []
          },
          "execution_count": 14
        }
      ]
    },
    {
      "cell_type": "markdown",
      "metadata": {
        "id": "QNXyymwtivtr",
        "colab_type": "text"
      },
      "source": [
        "**Question 2.2**<br/>\n",
        "What movies were released in 2005? Use python to show just the movies titles (column)."
      ]
    },
    {
      "cell_type": "code",
      "metadata": {
        "id": "AHsBH8uRivtr",
        "colab_type": "code",
        "colab": {
          "base_uri": "https://localhost:8080/",
          "height": 86
        },
        "outputId": "b035285a-2851-4c70-febe-547f8e3526fb"
      },
      "source": [
        "movies[movies['Year'] == 2005]['Title']"
      ],
      "execution_count": 15,
      "outputs": [
        {
          "output_type": "execute_result",
          "data": {
            "text/plain": [
              "24         Star Wars: Episode III - Revenge of the Sith\n",
              "60    The Chronicles of Narnia: The Lion, the Witch ...\n",
              "62                  Harry Potter and the Goblet of Fire\n",
              "Name: Title, dtype: object"
            ]
          },
          "metadata": {
            "tags": []
          },
          "execution_count": 15
        }
      ]
    },
    {
      "cell_type": "markdown",
      "metadata": {
        "id": "TOSM6B87ivtt",
        "colab_type": "text"
      },
      "source": [
        "**Question 2.3**<br/>\n",
        "Use a boolean mask to create a DataFrame called `paramount` that contains only movies produced by 'Paramount'."
      ]
    },
    {
      "cell_type": "code",
      "metadata": {
        "id": "0afPeYmtivtu",
        "colab_type": "code",
        "colab": {
          "base_uri": "https://localhost:8080/",
          "height": 798
        },
        "outputId": "0b4afdd7-6d42-4cc8-ae0a-7360d2482ab1"
      },
      "source": [
        "paramount = movies[movies['Studio'] == 'Paramount']\n",
        "paramount"
      ],
      "execution_count": 16,
      "outputs": [
        {
          "output_type": "execute_result",
          "data": {
            "text/html": [
              "<div>\n",
              "<style scoped>\n",
              "    .dataframe tbody tr th:only-of-type {\n",
              "        vertical-align: middle;\n",
              "    }\n",
              "\n",
              "    .dataframe tbody tr th {\n",
              "        vertical-align: top;\n",
              "    }\n",
              "\n",
              "    .dataframe thead th {\n",
              "        text-align: right;\n",
              "    }\n",
              "</style>\n",
              "<table border=\"1\" class=\"dataframe\">\n",
              "  <thead>\n",
              "    <tr style=\"text-align: right;\">\n",
              "      <th></th>\n",
              "      <th>Title</th>\n",
              "      <th>Studio</th>\n",
              "      <th>Gross</th>\n",
              "      <th>Gross (Adjusted)</th>\n",
              "      <th>Year</th>\n",
              "    </tr>\n",
              "  </thead>\n",
              "  <tbody>\n",
              "    <tr>\n",
              "      <th>2</th>\n",
              "      <td>Titanic</td>\n",
              "      <td>Paramount</td>\n",
              "      <td>658672302</td>\n",
              "      <td>1178627900</td>\n",
              "      <td>1997</td>\n",
              "    </tr>\n",
              "    <tr>\n",
              "      <th>39</th>\n",
              "      <td>Forrest Gump</td>\n",
              "      <td>Paramount</td>\n",
              "      <td>330252182</td>\n",
              "      <td>683929300</td>\n",
              "      <td>1994</td>\n",
              "    </tr>\n",
              "    <tr>\n",
              "      <th>42</th>\n",
              "      <td>Iron Man</td>\n",
              "      <td>Paramount</td>\n",
              "      <td>318412101</td>\n",
              "      <td>385808100</td>\n",
              "      <td>2008</td>\n",
              "    </tr>\n",
              "    <tr>\n",
              "      <th>44</th>\n",
              "      <td>Indiana Jones and the Kingdom of the Crystal S...</td>\n",
              "      <td>Paramount</td>\n",
              "      <td>317101119</td>\n",
              "      <td>384231200</td>\n",
              "      <td>2008</td>\n",
              "    </tr>\n",
              "    <tr>\n",
              "      <th>46</th>\n",
              "      <td>Iron Man 2</td>\n",
              "      <td>Paramount</td>\n",
              "      <td>312433331</td>\n",
              "      <td>341908200</td>\n",
              "      <td>2010</td>\n",
              "    </tr>\n",
              "    <tr>\n",
              "      <th>77</th>\n",
              "      <td>Raiders of the Lost Ark</td>\n",
              "      <td>Paramount</td>\n",
              "      <td>248159971</td>\n",
              "      <td>770183000</td>\n",
              "      <td>1981</td>\n",
              "    </tr>\n",
              "    <tr>\n",
              "      <th>84</th>\n",
              "      <td>Beverly Hills Cop</td>\n",
              "      <td>Paramount</td>\n",
              "      <td>234760478</td>\n",
              "      <td>584205200</td>\n",
              "      <td>1984</td>\n",
              "    </tr>\n",
              "    <tr>\n",
              "      <th>92</th>\n",
              "      <td>Ghost</td>\n",
              "      <td>Paramount</td>\n",
              "      <td>217631306</td>\n",
              "      <td>447747400</td>\n",
              "      <td>1990</td>\n",
              "    </tr>\n",
              "    <tr>\n",
              "      <th>95</th>\n",
              "      <td>Mission: Impossible II</td>\n",
              "      <td>Paramount</td>\n",
              "      <td>215409889</td>\n",
              "      <td>347693200</td>\n",
              "      <td>2000</td>\n",
              "    </tr>\n",
              "    <tr>\n",
              "      <th>101</th>\n",
              "      <td>Indiana Jones and the Last Crusade</td>\n",
              "      <td>Paramount</td>\n",
              "      <td>197171806</td>\n",
              "      <td>429923500</td>\n",
              "      <td>1989</td>\n",
              "    </tr>\n",
              "    <tr>\n",
              "      <th>103</th>\n",
              "      <td>Grease</td>\n",
              "      <td>Paramount</td>\n",
              "      <td>188755690</td>\n",
              "      <td>669632000</td>\n",
              "      <td>1978</td>\n",
              "    </tr>\n",
              "    <tr>\n",
              "      <th>109</th>\n",
              "      <td>Mission: Impossible</td>\n",
              "      <td>Paramount</td>\n",
              "      <td>180981856</td>\n",
              "      <td>356231300</td>\n",
              "      <td>1996</td>\n",
              "    </tr>\n",
              "    <tr>\n",
              "      <th>110</th>\n",
              "      <td>Indiana Jones and the Temple of Doom</td>\n",
              "      <td>Paramount</td>\n",
              "      <td>179870271</td>\n",
              "      <td>465735500</td>\n",
              "      <td>1984</td>\n",
              "    </tr>\n",
              "    <tr>\n",
              "      <th>111</th>\n",
              "      <td>Top Gun</td>\n",
              "      <td>Paramount</td>\n",
              "      <td>179800601</td>\n",
              "      <td>417818200</td>\n",
              "      <td>1986</td>\n",
              "    </tr>\n",
              "    <tr>\n",
              "      <th>115</th>\n",
              "      <td>Crocodile Dundee</td>\n",
              "      <td>Paramount</td>\n",
              "      <td>174803506</td>\n",
              "      <td>401961400</td>\n",
              "      <td>1986</td>\n",
              "    </tr>\n",
              "    <tr>\n",
              "      <th>124</th>\n",
              "      <td>The Firm</td>\n",
              "      <td>Paramount</td>\n",
              "      <td>158348367</td>\n",
              "      <td>332761100</td>\n",
              "      <td>1993</td>\n",
              "    </tr>\n",
              "    <tr>\n",
              "      <th>125</th>\n",
              "      <td>Fatal Attraction</td>\n",
              "      <td>Paramount</td>\n",
              "      <td>156645693</td>\n",
              "      <td>345222500</td>\n",
              "      <td>1987</td>\n",
              "    </tr>\n",
              "    <tr>\n",
              "      <th>128</th>\n",
              "      <td>Beverly Hills Cop II</td>\n",
              "      <td>Paramount</td>\n",
              "      <td>153665036</td>\n",
              "      <td>341914500</td>\n",
              "      <td>1987</td>\n",
              "    </tr>\n",
              "    <tr>\n",
              "      <th>135</th>\n",
              "      <td>The Godfather</td>\n",
              "      <td>Paramount</td>\n",
              "      <td>134966411</td>\n",
              "      <td>686626300</td>\n",
              "      <td>1972</td>\n",
              "    </tr>\n",
              "    <tr>\n",
              "      <th>138</th>\n",
              "      <td>An Officer and a Gentleman</td>\n",
              "      <td>Paramount</td>\n",
              "      <td>129795554</td>\n",
              "      <td>379814600</td>\n",
              "      <td>1982</td>\n",
              "    </tr>\n",
              "    <tr>\n",
              "      <th>151</th>\n",
              "      <td>Love Story</td>\n",
              "      <td>Paramount</td>\n",
              "      <td>106397186</td>\n",
              "      <td>608983900</td>\n",
              "      <td>1970</td>\n",
              "    </tr>\n",
              "    <tr>\n",
              "      <th>160</th>\n",
              "      <td>Saturday Night Fever</td>\n",
              "      <td>Paramount</td>\n",
              "      <td>94213184</td>\n",
              "      <td>353261200</td>\n",
              "      <td>1977</td>\n",
              "    </tr>\n",
              "    <tr>\n",
              "      <th>174</th>\n",
              "      <td>The Ten Commandments</td>\n",
              "      <td>Paramount</td>\n",
              "      <td>65500000</td>\n",
              "      <td>1139700000</td>\n",
              "      <td>1956</td>\n",
              "    </tr>\n",
              "    <tr>\n",
              "      <th>188</th>\n",
              "      <td>Rear Window</td>\n",
              "      <td>Paramount</td>\n",
              "      <td>36764313</td>\n",
              "      <td>438086300</td>\n",
              "      <td>1954</td>\n",
              "    </tr>\n",
              "    <tr>\n",
              "      <th>190</th>\n",
              "      <td>The Greatest Show on Earth</td>\n",
              "      <td>Paramount</td>\n",
              "      <td>36000000</td>\n",
              "      <td>522000000</td>\n",
              "      <td>1952</td>\n",
              "    </tr>\n",
              "  </tbody>\n",
              "</table>\n",
              "</div>"
            ],
            "text/plain": [
              "                                                 Title  ...  Year\n",
              "2                                              Titanic  ...  1997\n",
              "39                                        Forrest Gump  ...  1994\n",
              "42                                            Iron Man  ...  2008\n",
              "44   Indiana Jones and the Kingdom of the Crystal S...  ...  2008\n",
              "46                                          Iron Man 2  ...  2010\n",
              "77                             Raiders of the Lost Ark  ...  1981\n",
              "84                                   Beverly Hills Cop  ...  1984\n",
              "92                                               Ghost  ...  1990\n",
              "95                              Mission: Impossible II  ...  2000\n",
              "101                 Indiana Jones and the Last Crusade  ...  1989\n",
              "103                                             Grease  ...  1978\n",
              "109                                Mission: Impossible  ...  1996\n",
              "110               Indiana Jones and the Temple of Doom  ...  1984\n",
              "111                                            Top Gun  ...  1986\n",
              "115                                   Crocodile Dundee  ...  1986\n",
              "124                                           The Firm  ...  1993\n",
              "125                                   Fatal Attraction  ...  1987\n",
              "128                               Beverly Hills Cop II  ...  1987\n",
              "135                                      The Godfather  ...  1972\n",
              "138                         An Officer and a Gentleman  ...  1982\n",
              "151                                         Love Story  ...  1970\n",
              "160                               Saturday Night Fever  ...  1977\n",
              "174                               The Ten Commandments  ...  1956\n",
              "188                                        Rear Window  ...  1954\n",
              "190                         The Greatest Show on Earth  ...  1952\n",
              "\n",
              "[25 rows x 5 columns]"
            ]
          },
          "metadata": {
            "tags": []
          },
          "execution_count": 16
        }
      ]
    },
    {
      "cell_type": "markdown",
      "metadata": {
        "id": "Wcdypwd5ivtw",
        "colab_type": "text"
      },
      "source": [
        "**Question 2.4** <br/>\n",
        "How many movies did Paramount produce? Use python to find the answer."
      ]
    },
    {
      "cell_type": "code",
      "metadata": {
        "id": "IW3DsM1Sivtw",
        "colab_type": "code",
        "colab": {
          "base_uri": "https://localhost:8080/",
          "height": 35
        },
        "outputId": "80178d3c-e755-4f9f-d10f-320a784c33bd"
      },
      "source": [
        "Number_movies = movies[movies['Studio'] == 'Paramount']\n",
        "len(Number_movies['Title'])"
      ],
      "execution_count": 18,
      "outputs": [
        {
          "output_type": "execute_result",
          "data": {
            "text/plain": [
              "25"
            ]
          },
          "metadata": {
            "tags": []
          },
          "execution_count": 18
        }
      ]
    },
    {
      "cell_type": "markdown",
      "metadata": {
        "id": "mwiupwTqivtz",
        "colab_type": "text"
      },
      "source": [
        "**Question 2.5**<br/>\n",
        "In what year was the first movie from Paramount (that appears in this top movies list)? Use python to find the answer."
      ]
    },
    {
      "cell_type": "code",
      "metadata": {
        "id": "2VyP3i4jivtz",
        "colab_type": "code",
        "colab": {
          "base_uri": "https://localhost:8080/",
          "height": 35
        },
        "outputId": "a397a3ec-35ec-48e3-d220-7cbd3a66399a"
      },
      "source": [
        "movies[movies['Studio'] == 'Paramount']['Year'].min()"
      ],
      "execution_count": 19,
      "outputs": [
        {
          "output_type": "execute_result",
          "data": {
            "text/plain": [
              "1952"
            ]
          },
          "metadata": {
            "tags": []
          },
          "execution_count": 19
        }
      ]
    },
    {
      "cell_type": "markdown",
      "metadata": {
        "id": "9fz9sFZzivt2",
        "colab_type": "text"
      },
      "source": [
        "**Question 2.6**<br/>\n",
        "What was the name of that movie? Use python to show the answer."
      ]
    },
    {
      "cell_type": "code",
      "metadata": {
        "id": "2zpYpVaTivt3",
        "colab_type": "code",
        "colab": {
          "base_uri": "https://localhost:8080/",
          "height": 52
        },
        "outputId": "b0a08e05-ff9d-4597-f9e2-068cd3f0abbc"
      },
      "source": [
        "movies[movies['Year'] == 1952]['Title']"
      ],
      "execution_count": 20,
      "outputs": [
        {
          "output_type": "execute_result",
          "data": {
            "text/plain": [
              "190    The Greatest Show on Earth\n",
              "Name: Title, dtype: object"
            ]
          },
          "metadata": {
            "tags": []
          },
          "execution_count": 20
        }
      ]
    },
    {
      "cell_type": "markdown",
      "metadata": {
        "id": "hIpwtVNyivt5",
        "colab_type": "text"
      },
      "source": [
        "**Question 2.7.** <br/>\n",
        "What was the average Adjusted Gross for all the Paramount movies (in this top movies list)? Use numpy."
      ]
    },
    {
      "cell_type": "code",
      "metadata": {
        "id": "IzLnLtQpivt5",
        "colab_type": "code",
        "colab": {
          "base_uri": "https://localhost:8080/",
          "height": 35
        },
        "outputId": "533daf78-eb25-49ae-ac4e-8081d0570c93"
      },
      "source": [
        "np.mean(movies[movies['Studio'] == 'Paramount']['Gross (Adjusted)'])"
      ],
      "execution_count": 21,
      "outputs": [
        {
          "output_type": "execute_result",
          "data": {
            "text/plain": [
              "520560232.0"
            ]
          },
          "metadata": {
            "tags": []
          },
          "execution_count": 21
        }
      ]
    }
  ]
}